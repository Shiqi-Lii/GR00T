{
 "cells": [
  {
   "cell_type": "code",
   "execution_count": 1,
   "id": "2d760897",
   "metadata": {},
   "outputs": [],
   "source": [
    "import json\n",
    "import pandas as pd\n",
    "import torch\n",
    "from pathlib import Path\n",
    "from collections import OrderedDict\n",
    "import numpy as np\n",
    "import imageio.v2 as imageio\n",
    "from PIL import Image\n",
    "import cv2\n",
    "from natsort import natsorted"
   ]
  },
  {
   "cell_type": "code",
   "execution_count": 2,
   "id": "5a3e1834",
   "metadata": {},
   "outputs": [],
   "source": [
    "# -----------------------------\n",
    "# User configuration - adjust these paths as needed\n",
    "# -----------------------------\n",
    "SOURCE_DIR = Path(\"collect_data/data\")  # Path to folder containing .pt files and sensor/top_cam\n",
    "# OUTPUT_DIR = Path(\"training_data\")    # Path where GR00T-formatted dataset will be created\n",
    "OUTPUT_DIR = Path(\"training_data_task_1\")    # Path where GR00T-formatted dataset will be created\n",
    " \n",
    "# -----------------------------\n",
    "# Step 1: Create target directory structure\n",
    "# -----------------------------\n",
    "# data/chunk-000 for .parquet files\n",
    "(OUTPUT_DIR / \"data\" / \"chunk-000\").mkdir(parents=True, exist_ok=True)\n",
    "# videos/chunk-000/observation.images.ego_view for image frames\n",
    "(OUTPUT_DIR / \"videos\" / \"chunk-000\" / \"observation.images.ego_view\").mkdir(parents=True, exist_ok=True)\n",
    "# meta directory\n",
    "(OUTPUT_DIR / \"meta\").mkdir(parents=True, exist_ok=True)\n"
   ]
  },
  {
   "cell_type": "code",
   "execution_count": 3,
   "id": "8ae7c42b",
   "metadata": {},
   "outputs": [],
   "source": [
    "# -----------------------------\n",
    "# Step 2: Load all .pt tensors\n",
    "# -----------------------------\n",
    "def load_tensor(path: Path):\n",
    "    \"\"\"Helper to load a torch tensor from a .pt file.\"\"\"\n",
    "    return torch.load(path, map_location=\"cpu\",weights_only=True)\n",
    "\n",
    "\n",
    "def parquet_file_generation(idx, folder, global_idx):\n",
    "    gripper_state = load_tensor(folder / \"Panda 10 follower\" / \"gripper_state.pt\")      # shape: [686]\n",
    "    # print(gripper_state.shape)\n",
    "    joint_pos = load_tensor(folder / \"Panda 10 follower\" / \"joint_pos.pt\")       # shape: [686, 7]\n",
    "    # print(joint_pos.shape)\n",
    "    # joint_vel = load_tensor(folder / \"Panda 10 follower\" / \"joint_vel.pt\")       # shape: [686, 7]\n",
    "    # print(joint_vel.shape)\n",
    "    \n",
    "    # timestamps tensor\n",
    "    timestamps = load_tensor(folder / \"timestamps.pt\")                                  # shape: [686]\n",
    "\n",
    "    task_file = (folder/\"task\")\n",
    "    \n",
    "    with open(task_file, \"r\") as f:\n",
    "        task_idx = int(f.read().strip())\n",
    "    print(f\"task_idx: {task_idx}\")\n",
    "\n",
    "    num_steps = gripper_state.shape[0] - 1\n",
    "\n",
    "    # Step 3: Write each time step as a single-row Parquet file\n",
    "    # -----------------------------\n",
    "    state_parts = OrderedDict([\n",
    "        (\"joint_pos\",    joint_pos[:-1,:]),\n",
    "        (\"gripper_state\", gripper_state[:-1]),\n",
    "        # (\"joint_vel\",    joint_vel[:-1,:]),\n",
    "    ])\n",
    "    action_parts = OrderedDict([\n",
    "        (\"joint_pos\",    joint_pos[1:,:]),\n",
    "        (\"gripper_state\", gripper_state[1:]),\n",
    "        # (\"joint_vel\",    joint_vel[1:,:]),\n",
    "    ])\n",
    "\n",
    "    rows = []\n",
    "    for i in range(num_steps): \n",
    "        state_vec = np.concatenate([\n",
    "            arr[i].cpu().numpy().ravel() for arr in state_parts.values()\n",
    "        ])\n",
    "        action_vec = np.concatenate([\n",
    "            arr[i].cpu().numpy().ravel() for arr in action_parts.values()\n",
    "        ])\n",
    "        row = {\n",
    "            \"observation.state\": state_vec.tolist(),\n",
    "            \"action\":            action_vec.tolist(),\n",
    "            # \"timestamp\":         float(timestamps[i].item()),\n",
    "            \"timestamp\":         0.05 + i * 0.05,\n",
    "            \"annotation.human.action.task_description\": task_idx, # index of the task description in the meta/tasks.jsonl file\n",
    "            \"task_index\":        task_idx, # index of the task in the meta/tasks.jsonl file\n",
    "            # \"annotation.human.validity\": 1, \n",
    "            \"episode_index\":     idx,\n",
    "            \"index\":             global_idx,\n",
    "            \"next.reward\":       0.0,\n",
    "            \"next.done\":         False,\n",
    "        }\n",
    "        rows.append(row)\n",
    "        global_idx += 1\n",
    "\n",
    "    df = pd.DataFrame(rows)\n",
    "    df_path = OUTPUT_DIR / \"data\" / \"chunk-000\" / f\"episode_{idx:06d}.parquet\"\n",
    "    df.to_parquet(df_path)\n",
    "    print(f\"episode_{idx:06d}.parquet is generated: {df_path}\")\n",
    "\n",
    "    episodes_jsonl_data = {\"episode_index\":idx,\"tasks\":task_idx,\"length\":num_steps}\n",
    "    with open(OUTPUT_DIR / \"meta\"/ \"episodes.jsonl\", \"a\") as f:\n",
    "        f.write(json.dumps(episodes_jsonl_data) + \"\\n\")\n",
    "\n",
    "    return global_idx\n",
    "\n",
    "\n",
    "def video_generation(idx: int, folder: Path):\n",
    "    \n",
    "    # first camera view\n",
    "    src = folder / \"sensors\" / \"top_cam\"\n",
    "    output = OUTPUT_DIR / \"videos\" / \"chunk-000\" / \"observation.images.ego_view\" / f\"episode_{idx:06d}.mp4\"\n",
    "    output.parent.mkdir(parents=True, exist_ok=True)\n",
    "\n",
    "    image_files = natsorted(src.glob(\"*.*\"))\n",
    "    frames = []\n",
    "    for img_path in image_files:\n",
    "        arr = imageio.imread(str(img_path))\n",
    "        img = Image.fromarray(arr).resize((256, 256), Image.LANCZOS)\n",
    "        frames.append(np.array(img))\n",
    "\n",
    "    # ffmpeg_params = [\n",
    "    #     \"-pix_fmt\", \"yuv420p\"      \n",
    "    #     # \"-preset\", \"fast\",            \n",
    "    #     # \"-crf\", \"23\",                \n",
    "    #     # \"-vsync\", \"passthrough\",      \n",
    "    # ]\n",
    "\n",
    "    with imageio.get_writer(\n",
    "        str(output),\n",
    "        format=\"FFMPEG\",\n",
    "        mode=\"I\",\n",
    "        fps=20,\n",
    "        codec=\"libx264\",\n",
    "        ffmpeg_params=[\"-pix_fmt\", \"yuv420p\"]\n",
    "    ) as writer:\n",
    "        for frame in frames:\n",
    "            writer.append_data(frame)\n",
    "\n",
    "    print(f\"video episode_{idx:06d}.mp4 is generated: {output}\")\n",
    "\n",
    "    # second camera view\n",
    "    src2 = folder / \"sensors\" / \"side_cam\"\n",
    "    output2 = OUTPUT_DIR / \"videos\" / \"chunk-000\" / \"observation.images.second_view\" / f\"episode_{idx:06d}.mp4\"\n",
    "    output2.parent.mkdir(parents=True, exist_ok=True)\n",
    "\n",
    "    image_files2 = natsorted(src2.glob(\"*.*\"))\n",
    "    frames2 = []\n",
    "    for img_path in image_files2:\n",
    "        arr = imageio.imread(str(img_path))\n",
    "        img = Image.fromarray(arr).resize((256, 256), Image.LANCZOS)\n",
    "        frames2.append(np.array(img))\n",
    "\n",
    "    with imageio.get_writer(\n",
    "        str(output2),\n",
    "        format=\"FFMPEG\",\n",
    "        mode=\"I\",\n",
    "        fps=20,\n",
    "        codec=\"libx264\",\n",
    "        ffmpeg_params=[\"-pix_fmt\", \"yuv420p\"]\n",
    "    ) as writer:\n",
    "        for frame in frames2:\n",
    "            writer.append_data(frame)\n",
    "\n",
    "    print(f\"video episode_{idx:06d}.mp4 is generated: {output2}\")\n",
    "\n",
    "\n",
    "\n"
   ]
  },
  {
   "cell_type": "code",
   "execution_count": 4,
   "id": "b67b27bd",
   "metadata": {},
   "outputs": [
    {
     "name": "stdout",
     "output_type": "stream",
     "text": [
      "****************************************************************************************************\n",
      "0: collect_data/data/2025_07_21-15_16_17\n",
      "task_idx: 1\n",
      "episode_000000.parquet is generated: training_data_task_1/data/chunk-000/episode_000000.parquet\n"
     ]
    },
    {
     "name": "stderr",
     "output_type": "stream",
     "text": [
      "Multiple -pix_fmt options specified for stream 0, only the last option '-pix_fmt yuv420p' will be used.\n"
     ]
    },
    {
     "name": "stdout",
     "output_type": "stream",
     "text": [
      "video episode_000000.mp4 is generated: training_data_task_1/videos/chunk-000/observation.images.ego_view/episode_000000.mp4\n"
     ]
    },
    {
     "name": "stderr",
     "output_type": "stream",
     "text": [
      "Multiple -pix_fmt options specified for stream 0, only the last option '-pix_fmt yuv420p' will be used.\n"
     ]
    },
    {
     "name": "stdout",
     "output_type": "stream",
     "text": [
      "video episode_000000.mp4 is generated: training_data_task_1/videos/chunk-000/observation.images.second_view/episode_000000.mp4\n",
      "****************************************************************************************************\n",
      "1: collect_data/data/2025_07_21-15_22_03\n",
      "task_idx: 1\n",
      "episode_000001.parquet is generated: training_data_task_1/data/chunk-000/episode_000001.parquet\n"
     ]
    },
    {
     "name": "stderr",
     "output_type": "stream",
     "text": [
      "Multiple -pix_fmt options specified for stream 0, only the last option '-pix_fmt yuv420p' will be used.\n"
     ]
    },
    {
     "name": "stdout",
     "output_type": "stream",
     "text": [
      "video episode_000001.mp4 is generated: training_data_task_1/videos/chunk-000/observation.images.ego_view/episode_000001.mp4\n"
     ]
    },
    {
     "name": "stderr",
     "output_type": "stream",
     "text": [
      "Multiple -pix_fmt options specified for stream 0, only the last option '-pix_fmt yuv420p' will be used.\n"
     ]
    },
    {
     "name": "stdout",
     "output_type": "stream",
     "text": [
      "video episode_000001.mp4 is generated: training_data_task_1/videos/chunk-000/observation.images.second_view/episode_000001.mp4\n",
      "****************************************************************************************************\n",
      "2: collect_data/data/2025_07_21-15_27_04\n",
      "task_idx: 1\n",
      "episode_000002.parquet is generated: training_data_task_1/data/chunk-000/episode_000002.parquet\n"
     ]
    },
    {
     "name": "stderr",
     "output_type": "stream",
     "text": [
      "Multiple -pix_fmt options specified for stream 0, only the last option '-pix_fmt yuv420p' will be used.\n"
     ]
    },
    {
     "name": "stdout",
     "output_type": "stream",
     "text": [
      "video episode_000002.mp4 is generated: training_data_task_1/videos/chunk-000/observation.images.ego_view/episode_000002.mp4\n"
     ]
    },
    {
     "name": "stderr",
     "output_type": "stream",
     "text": [
      "Multiple -pix_fmt options specified for stream 0, only the last option '-pix_fmt yuv420p' will be used.\n"
     ]
    },
    {
     "name": "stdout",
     "output_type": "stream",
     "text": [
      "video episode_000002.mp4 is generated: training_data_task_1/videos/chunk-000/observation.images.second_view/episode_000002.mp4\n",
      "****************************************************************************************************\n",
      "3: collect_data/data/2025_07_21-15_28_28\n",
      "task_idx: 1\n",
      "episode_000003.parquet is generated: training_data_task_1/data/chunk-000/episode_000003.parquet\n"
     ]
    },
    {
     "name": "stderr",
     "output_type": "stream",
     "text": [
      "Multiple -pix_fmt options specified for stream 0, only the last option '-pix_fmt yuv420p' will be used.\n"
     ]
    },
    {
     "name": "stdout",
     "output_type": "stream",
     "text": [
      "video episode_000003.mp4 is generated: training_data_task_1/videos/chunk-000/observation.images.ego_view/episode_000003.mp4\n"
     ]
    },
    {
     "name": "stderr",
     "output_type": "stream",
     "text": [
      "Multiple -pix_fmt options specified for stream 0, only the last option '-pix_fmt yuv420p' will be used.\n"
     ]
    },
    {
     "name": "stdout",
     "output_type": "stream",
     "text": [
      "video episode_000003.mp4 is generated: training_data_task_1/videos/chunk-000/observation.images.second_view/episode_000003.mp4\n",
      "****************************************************************************************************\n",
      "4: collect_data/data/2025_07_21-15_29_45\n",
      "task_idx: 1\n",
      "episode_000004.parquet is generated: training_data_task_1/data/chunk-000/episode_000004.parquet\n"
     ]
    },
    {
     "name": "stderr",
     "output_type": "stream",
     "text": [
      "Multiple -pix_fmt options specified for stream 0, only the last option '-pix_fmt yuv420p' will be used.\n"
     ]
    },
    {
     "name": "stdout",
     "output_type": "stream",
     "text": [
      "video episode_000004.mp4 is generated: training_data_task_1/videos/chunk-000/observation.images.ego_view/episode_000004.mp4\n"
     ]
    },
    {
     "name": "stderr",
     "output_type": "stream",
     "text": [
      "Multiple -pix_fmt options specified for stream 0, only the last option '-pix_fmt yuv420p' will be used.\n"
     ]
    },
    {
     "name": "stdout",
     "output_type": "stream",
     "text": [
      "video episode_000004.mp4 is generated: training_data_task_1/videos/chunk-000/observation.images.second_view/episode_000004.mp4\n",
      "****************************************************************************************************\n",
      "5: collect_data/data/2025_07_21-15_31_14\n",
      "task_idx: 1\n",
      "episode_000005.parquet is generated: training_data_task_1/data/chunk-000/episode_000005.parquet\n"
     ]
    },
    {
     "name": "stderr",
     "output_type": "stream",
     "text": [
      "Multiple -pix_fmt options specified for stream 0, only the last option '-pix_fmt yuv420p' will be used.\n"
     ]
    },
    {
     "name": "stdout",
     "output_type": "stream",
     "text": [
      "video episode_000005.mp4 is generated: training_data_task_1/videos/chunk-000/observation.images.ego_view/episode_000005.mp4\n"
     ]
    },
    {
     "name": "stderr",
     "output_type": "stream",
     "text": [
      "Multiple -pix_fmt options specified for stream 0, only the last option '-pix_fmt yuv420p' will be used.\n"
     ]
    },
    {
     "name": "stdout",
     "output_type": "stream",
     "text": [
      "video episode_000005.mp4 is generated: training_data_task_1/videos/chunk-000/observation.images.second_view/episode_000005.mp4\n",
      "****************************************************************************************************\n",
      "6: collect_data/data/2025_07_21-15_32_15\n",
      "task_idx: 1\n",
      "episode_000006.parquet is generated: training_data_task_1/data/chunk-000/episode_000006.parquet\n"
     ]
    },
    {
     "name": "stderr",
     "output_type": "stream",
     "text": [
      "Multiple -pix_fmt options specified for stream 0, only the last option '-pix_fmt yuv420p' will be used.\n"
     ]
    },
    {
     "name": "stdout",
     "output_type": "stream",
     "text": [
      "video episode_000006.mp4 is generated: training_data_task_1/videos/chunk-000/observation.images.ego_view/episode_000006.mp4\n"
     ]
    },
    {
     "name": "stderr",
     "output_type": "stream",
     "text": [
      "Multiple -pix_fmt options specified for stream 0, only the last option '-pix_fmt yuv420p' will be used.\n"
     ]
    },
    {
     "name": "stdout",
     "output_type": "stream",
     "text": [
      "video episode_000006.mp4 is generated: training_data_task_1/videos/chunk-000/observation.images.second_view/episode_000006.mp4\n",
      "****************************************************************************************************\n",
      "7: collect_data/data/2025_07_21-15_33_18\n",
      "task_idx: 1\n",
      "episode_000007.parquet is generated: training_data_task_1/data/chunk-000/episode_000007.parquet\n"
     ]
    },
    {
     "name": "stderr",
     "output_type": "stream",
     "text": [
      "Multiple -pix_fmt options specified for stream 0, only the last option '-pix_fmt yuv420p' will be used.\n"
     ]
    },
    {
     "name": "stdout",
     "output_type": "stream",
     "text": [
      "video episode_000007.mp4 is generated: training_data_task_1/videos/chunk-000/observation.images.ego_view/episode_000007.mp4\n"
     ]
    },
    {
     "name": "stderr",
     "output_type": "stream",
     "text": [
      "Multiple -pix_fmt options specified for stream 0, only the last option '-pix_fmt yuv420p' will be used.\n"
     ]
    },
    {
     "name": "stdout",
     "output_type": "stream",
     "text": [
      "video episode_000007.mp4 is generated: training_data_task_1/videos/chunk-000/observation.images.second_view/episode_000007.mp4\n",
      "****************************************************************************************************\n",
      "8: collect_data/data/2025_07_21-15_35_07\n",
      "task_idx: 1\n",
      "episode_000008.parquet is generated: training_data_task_1/data/chunk-000/episode_000008.parquet\n"
     ]
    },
    {
     "name": "stderr",
     "output_type": "stream",
     "text": [
      "Multiple -pix_fmt options specified for stream 0, only the last option '-pix_fmt yuv420p' will be used.\n"
     ]
    },
    {
     "name": "stdout",
     "output_type": "stream",
     "text": [
      "video episode_000008.mp4 is generated: training_data_task_1/videos/chunk-000/observation.images.ego_view/episode_000008.mp4\n"
     ]
    },
    {
     "name": "stderr",
     "output_type": "stream",
     "text": [
      "Multiple -pix_fmt options specified for stream 0, only the last option '-pix_fmt yuv420p' will be used.\n"
     ]
    },
    {
     "name": "stdout",
     "output_type": "stream",
     "text": [
      "video episode_000008.mp4 is generated: training_data_task_1/videos/chunk-000/observation.images.second_view/episode_000008.mp4\n",
      "****************************************************************************************************\n",
      "9: collect_data/data/2025_07_21-15_36_08\n",
      "task_idx: 1\n",
      "episode_000009.parquet is generated: training_data_task_1/data/chunk-000/episode_000009.parquet\n"
     ]
    },
    {
     "name": "stderr",
     "output_type": "stream",
     "text": [
      "Multiple -pix_fmt options specified for stream 0, only the last option '-pix_fmt yuv420p' will be used.\n"
     ]
    },
    {
     "name": "stdout",
     "output_type": "stream",
     "text": [
      "video episode_000009.mp4 is generated: training_data_task_1/videos/chunk-000/observation.images.ego_view/episode_000009.mp4\n"
     ]
    },
    {
     "name": "stderr",
     "output_type": "stream",
     "text": [
      "Multiple -pix_fmt options specified for stream 0, only the last option '-pix_fmt yuv420p' will be used.\n"
     ]
    },
    {
     "name": "stdout",
     "output_type": "stream",
     "text": [
      "video episode_000009.mp4 is generated: training_data_task_1/videos/chunk-000/observation.images.second_view/episode_000009.mp4\n",
      "****************************************************************************************************\n",
      "10: collect_data/data/2025_07_21-15_37_04\n",
      "task_idx: 1\n",
      "episode_000010.parquet is generated: training_data_task_1/data/chunk-000/episode_000010.parquet\n"
     ]
    },
    {
     "name": "stderr",
     "output_type": "stream",
     "text": [
      "Multiple -pix_fmt options specified for stream 0, only the last option '-pix_fmt yuv420p' will be used.\n"
     ]
    },
    {
     "name": "stdout",
     "output_type": "stream",
     "text": [
      "video episode_000010.mp4 is generated: training_data_task_1/videos/chunk-000/observation.images.ego_view/episode_000010.mp4\n"
     ]
    },
    {
     "name": "stderr",
     "output_type": "stream",
     "text": [
      "Multiple -pix_fmt options specified for stream 0, only the last option '-pix_fmt yuv420p' will be used.\n"
     ]
    },
    {
     "name": "stdout",
     "output_type": "stream",
     "text": [
      "video episode_000010.mp4 is generated: training_data_task_1/videos/chunk-000/observation.images.second_view/episode_000010.mp4\n",
      "****************************************************************************************************\n",
      "11: collect_data/data/2025_07_21-15_38_02\n",
      "task_idx: 1\n",
      "episode_000011.parquet is generated: training_data_task_1/data/chunk-000/episode_000011.parquet\n"
     ]
    },
    {
     "name": "stderr",
     "output_type": "stream",
     "text": [
      "Multiple -pix_fmt options specified for stream 0, only the last option '-pix_fmt yuv420p' will be used.\n"
     ]
    },
    {
     "name": "stdout",
     "output_type": "stream",
     "text": [
      "video episode_000011.mp4 is generated: training_data_task_1/videos/chunk-000/observation.images.ego_view/episode_000011.mp4\n"
     ]
    },
    {
     "name": "stderr",
     "output_type": "stream",
     "text": [
      "Multiple -pix_fmt options specified for stream 0, only the last option '-pix_fmt yuv420p' will be used.\n"
     ]
    },
    {
     "name": "stdout",
     "output_type": "stream",
     "text": [
      "video episode_000011.mp4 is generated: training_data_task_1/videos/chunk-000/observation.images.second_view/episode_000011.mp4\n",
      "****************************************************************************************************\n",
      "12: collect_data/data/2025_07_21-15_39_00\n",
      "task_idx: 1\n",
      "episode_000012.parquet is generated: training_data_task_1/data/chunk-000/episode_000012.parquet\n"
     ]
    },
    {
     "name": "stderr",
     "output_type": "stream",
     "text": [
      "Multiple -pix_fmt options specified for stream 0, only the last option '-pix_fmt yuv420p' will be used.\n"
     ]
    },
    {
     "name": "stdout",
     "output_type": "stream",
     "text": [
      "video episode_000012.mp4 is generated: training_data_task_1/videos/chunk-000/observation.images.ego_view/episode_000012.mp4\n"
     ]
    },
    {
     "name": "stderr",
     "output_type": "stream",
     "text": [
      "Multiple -pix_fmt options specified for stream 0, only the last option '-pix_fmt yuv420p' will be used.\n"
     ]
    },
    {
     "name": "stdout",
     "output_type": "stream",
     "text": [
      "video episode_000012.mp4 is generated: training_data_task_1/videos/chunk-000/observation.images.second_view/episode_000012.mp4\n",
      "****************************************************************************************************\n",
      "13: collect_data/data/2025_07_21-15_40_05\n",
      "task_idx: 1\n",
      "episode_000013.parquet is generated: training_data_task_1/data/chunk-000/episode_000013.parquet\n"
     ]
    },
    {
     "name": "stderr",
     "output_type": "stream",
     "text": [
      "Multiple -pix_fmt options specified for stream 0, only the last option '-pix_fmt yuv420p' will be used.\n"
     ]
    },
    {
     "name": "stdout",
     "output_type": "stream",
     "text": [
      "video episode_000013.mp4 is generated: training_data_task_1/videos/chunk-000/observation.images.ego_view/episode_000013.mp4\n"
     ]
    },
    {
     "name": "stderr",
     "output_type": "stream",
     "text": [
      "Multiple -pix_fmt options specified for stream 0, only the last option '-pix_fmt yuv420p' will be used.\n"
     ]
    },
    {
     "name": "stdout",
     "output_type": "stream",
     "text": [
      "video episode_000013.mp4 is generated: training_data_task_1/videos/chunk-000/observation.images.second_view/episode_000013.mp4\n",
      "****************************************************************************************************\n",
      "14: collect_data/data/2025_07_21-15_40_53\n",
      "task_idx: 1\n",
      "episode_000014.parquet is generated: training_data_task_1/data/chunk-000/episode_000014.parquet\n"
     ]
    },
    {
     "name": "stderr",
     "output_type": "stream",
     "text": [
      "Multiple -pix_fmt options specified for stream 0, only the last option '-pix_fmt yuv420p' will be used.\n"
     ]
    },
    {
     "name": "stdout",
     "output_type": "stream",
     "text": [
      "video episode_000014.mp4 is generated: training_data_task_1/videos/chunk-000/observation.images.ego_view/episode_000014.mp4\n"
     ]
    },
    {
     "name": "stderr",
     "output_type": "stream",
     "text": [
      "Multiple -pix_fmt options specified for stream 0, only the last option '-pix_fmt yuv420p' will be used.\n"
     ]
    },
    {
     "name": "stdout",
     "output_type": "stream",
     "text": [
      "video episode_000014.mp4 is generated: training_data_task_1/videos/chunk-000/observation.images.second_view/episode_000014.mp4\n",
      "****************************************************************************************************\n",
      "15: collect_data/data/2025_07_21-15_41_41\n",
      "task_idx: 1\n",
      "episode_000015.parquet is generated: training_data_task_1/data/chunk-000/episode_000015.parquet\n"
     ]
    },
    {
     "name": "stderr",
     "output_type": "stream",
     "text": [
      "Multiple -pix_fmt options specified for stream 0, only the last option '-pix_fmt yuv420p' will be used.\n"
     ]
    },
    {
     "name": "stdout",
     "output_type": "stream",
     "text": [
      "video episode_000015.mp4 is generated: training_data_task_1/videos/chunk-000/observation.images.ego_view/episode_000015.mp4\n"
     ]
    },
    {
     "name": "stderr",
     "output_type": "stream",
     "text": [
      "Multiple -pix_fmt options specified for stream 0, only the last option '-pix_fmt yuv420p' will be used.\n"
     ]
    },
    {
     "name": "stdout",
     "output_type": "stream",
     "text": [
      "video episode_000015.mp4 is generated: training_data_task_1/videos/chunk-000/observation.images.second_view/episode_000015.mp4\n",
      "****************************************************************************************************\n",
      "16: collect_data/data/2025_07_21-15_42_34\n",
      "task_idx: 1\n",
      "episode_000016.parquet is generated: training_data_task_1/data/chunk-000/episode_000016.parquet\n"
     ]
    },
    {
     "name": "stderr",
     "output_type": "stream",
     "text": [
      "Multiple -pix_fmt options specified for stream 0, only the last option '-pix_fmt yuv420p' will be used.\n"
     ]
    },
    {
     "name": "stdout",
     "output_type": "stream",
     "text": [
      "video episode_000016.mp4 is generated: training_data_task_1/videos/chunk-000/observation.images.ego_view/episode_000016.mp4\n"
     ]
    },
    {
     "name": "stderr",
     "output_type": "stream",
     "text": [
      "Multiple -pix_fmt options specified for stream 0, only the last option '-pix_fmt yuv420p' will be used.\n"
     ]
    },
    {
     "name": "stdout",
     "output_type": "stream",
     "text": [
      "video episode_000016.mp4 is generated: training_data_task_1/videos/chunk-000/observation.images.second_view/episode_000016.mp4\n",
      "****************************************************************************************************\n",
      "17: collect_data/data/2025_07_21-15_43_24\n",
      "task_idx: 1\n",
      "episode_000017.parquet is generated: training_data_task_1/data/chunk-000/episode_000017.parquet\n"
     ]
    },
    {
     "name": "stderr",
     "output_type": "stream",
     "text": [
      "Multiple -pix_fmt options specified for stream 0, only the last option '-pix_fmt yuv420p' will be used.\n"
     ]
    },
    {
     "name": "stdout",
     "output_type": "stream",
     "text": [
      "video episode_000017.mp4 is generated: training_data_task_1/videos/chunk-000/observation.images.ego_view/episode_000017.mp4\n"
     ]
    },
    {
     "name": "stderr",
     "output_type": "stream",
     "text": [
      "Multiple -pix_fmt options specified for stream 0, only the last option '-pix_fmt yuv420p' will be used.\n"
     ]
    },
    {
     "name": "stdout",
     "output_type": "stream",
     "text": [
      "video episode_000017.mp4 is generated: training_data_task_1/videos/chunk-000/observation.images.second_view/episode_000017.mp4\n",
      "****************************************************************************************************\n",
      "18: collect_data/data/2025_07_21-15_44_43\n",
      "task_idx: 1\n",
      "episode_000018.parquet is generated: training_data_task_1/data/chunk-000/episode_000018.parquet\n"
     ]
    },
    {
     "name": "stderr",
     "output_type": "stream",
     "text": [
      "Multiple -pix_fmt options specified for stream 0, only the last option '-pix_fmt yuv420p' will be used.\n"
     ]
    },
    {
     "name": "stdout",
     "output_type": "stream",
     "text": [
      "video episode_000018.mp4 is generated: training_data_task_1/videos/chunk-000/observation.images.ego_view/episode_000018.mp4\n"
     ]
    },
    {
     "name": "stderr",
     "output_type": "stream",
     "text": [
      "Multiple -pix_fmt options specified for stream 0, only the last option '-pix_fmt yuv420p' will be used.\n"
     ]
    },
    {
     "name": "stdout",
     "output_type": "stream",
     "text": [
      "video episode_000018.mp4 is generated: training_data_task_1/videos/chunk-000/observation.images.second_view/episode_000018.mp4\n",
      "****************************************************************************************************\n",
      "19: collect_data/data/2025_07_21-15_45_31\n",
      "task_idx: 1\n",
      "episode_000019.parquet is generated: training_data_task_1/data/chunk-000/episode_000019.parquet\n"
     ]
    },
    {
     "name": "stderr",
     "output_type": "stream",
     "text": [
      "Multiple -pix_fmt options specified for stream 0, only the last option '-pix_fmt yuv420p' will be used.\n"
     ]
    },
    {
     "name": "stdout",
     "output_type": "stream",
     "text": [
      "video episode_000019.mp4 is generated: training_data_task_1/videos/chunk-000/observation.images.ego_view/episode_000019.mp4\n"
     ]
    },
    {
     "name": "stderr",
     "output_type": "stream",
     "text": [
      "Multiple -pix_fmt options specified for stream 0, only the last option '-pix_fmt yuv420p' will be used.\n"
     ]
    },
    {
     "name": "stdout",
     "output_type": "stream",
     "text": [
      "video episode_000019.mp4 is generated: training_data_task_1/videos/chunk-000/observation.images.second_view/episode_000019.mp4\n",
      "****************************************************************************************************\n",
      "20: collect_data/data/2025_07_21-15_46_50\n",
      "task_idx: 1\n",
      "episode_000020.parquet is generated: training_data_task_1/data/chunk-000/episode_000020.parquet\n"
     ]
    },
    {
     "name": "stderr",
     "output_type": "stream",
     "text": [
      "Multiple -pix_fmt options specified for stream 0, only the last option '-pix_fmt yuv420p' will be used.\n"
     ]
    },
    {
     "name": "stdout",
     "output_type": "stream",
     "text": [
      "video episode_000020.mp4 is generated: training_data_task_1/videos/chunk-000/observation.images.ego_view/episode_000020.mp4\n"
     ]
    },
    {
     "name": "stderr",
     "output_type": "stream",
     "text": [
      "Multiple -pix_fmt options specified for stream 0, only the last option '-pix_fmt yuv420p' will be used.\n"
     ]
    },
    {
     "name": "stdout",
     "output_type": "stream",
     "text": [
      "video episode_000020.mp4 is generated: training_data_task_1/videos/chunk-000/observation.images.second_view/episode_000020.mp4\n",
      "****************************************************************************************************\n",
      "21: collect_data/data/2025_07_21-15_47_47\n",
      "task_idx: 1\n",
      "episode_000021.parquet is generated: training_data_task_1/data/chunk-000/episode_000021.parquet\n"
     ]
    },
    {
     "name": "stderr",
     "output_type": "stream",
     "text": [
      "Multiple -pix_fmt options specified for stream 0, only the last option '-pix_fmt yuv420p' will be used.\n"
     ]
    },
    {
     "name": "stdout",
     "output_type": "stream",
     "text": [
      "video episode_000021.mp4 is generated: training_data_task_1/videos/chunk-000/observation.images.ego_view/episode_000021.mp4\n"
     ]
    },
    {
     "name": "stderr",
     "output_type": "stream",
     "text": [
      "Multiple -pix_fmt options specified for stream 0, only the last option '-pix_fmt yuv420p' will be used.\n"
     ]
    },
    {
     "name": "stdout",
     "output_type": "stream",
     "text": [
      "video episode_000021.mp4 is generated: training_data_task_1/videos/chunk-000/observation.images.second_view/episode_000021.mp4\n",
      "****************************************************************************************************\n",
      "22: collect_data/data/2025_07_21-15_48_38\n",
      "task_idx: 1\n",
      "episode_000022.parquet is generated: training_data_task_1/data/chunk-000/episode_000022.parquet\n"
     ]
    },
    {
     "name": "stderr",
     "output_type": "stream",
     "text": [
      "Multiple -pix_fmt options specified for stream 0, only the last option '-pix_fmt yuv420p' will be used.\n"
     ]
    },
    {
     "name": "stdout",
     "output_type": "stream",
     "text": [
      "video episode_000022.mp4 is generated: training_data_task_1/videos/chunk-000/observation.images.ego_view/episode_000022.mp4\n"
     ]
    },
    {
     "name": "stderr",
     "output_type": "stream",
     "text": [
      "Multiple -pix_fmt options specified for stream 0, only the last option '-pix_fmt yuv420p' will be used.\n"
     ]
    },
    {
     "name": "stdout",
     "output_type": "stream",
     "text": [
      "video episode_000022.mp4 is generated: training_data_task_1/videos/chunk-000/observation.images.second_view/episode_000022.mp4\n",
      "****************************************************************************************************\n",
      "23: collect_data/data/2025_07_21-15_49_30\n",
      "task_idx: 1\n",
      "episode_000023.parquet is generated: training_data_task_1/data/chunk-000/episode_000023.parquet\n"
     ]
    },
    {
     "name": "stderr",
     "output_type": "stream",
     "text": [
      "Multiple -pix_fmt options specified for stream 0, only the last option '-pix_fmt yuv420p' will be used.\n"
     ]
    },
    {
     "name": "stdout",
     "output_type": "stream",
     "text": [
      "video episode_000023.mp4 is generated: training_data_task_1/videos/chunk-000/observation.images.ego_view/episode_000023.mp4\n"
     ]
    },
    {
     "name": "stderr",
     "output_type": "stream",
     "text": [
      "Multiple -pix_fmt options specified for stream 0, only the last option '-pix_fmt yuv420p' will be used.\n"
     ]
    },
    {
     "name": "stdout",
     "output_type": "stream",
     "text": [
      "video episode_000023.mp4 is generated: training_data_task_1/videos/chunk-000/observation.images.second_view/episode_000023.mp4\n",
      "****************************************************************************************************\n",
      "24: collect_data/data/2025_07_21-15_50_27\n",
      "task_idx: 1\n",
      "episode_000024.parquet is generated: training_data_task_1/data/chunk-000/episode_000024.parquet\n"
     ]
    },
    {
     "name": "stderr",
     "output_type": "stream",
     "text": [
      "Multiple -pix_fmt options specified for stream 0, only the last option '-pix_fmt yuv420p' will be used.\n"
     ]
    },
    {
     "name": "stdout",
     "output_type": "stream",
     "text": [
      "video episode_000024.mp4 is generated: training_data_task_1/videos/chunk-000/observation.images.ego_view/episode_000024.mp4\n"
     ]
    },
    {
     "name": "stderr",
     "output_type": "stream",
     "text": [
      "Multiple -pix_fmt options specified for stream 0, only the last option '-pix_fmt yuv420p' will be used.\n"
     ]
    },
    {
     "name": "stdout",
     "output_type": "stream",
     "text": [
      "video episode_000024.mp4 is generated: training_data_task_1/videos/chunk-000/observation.images.second_view/episode_000024.mp4\n",
      "****************************************************************************************************\n",
      "25: collect_data/data/2025_07_21-15_51_19\n",
      "task_idx: 1\n",
      "episode_000025.parquet is generated: training_data_task_1/data/chunk-000/episode_000025.parquet\n"
     ]
    },
    {
     "name": "stderr",
     "output_type": "stream",
     "text": [
      "Multiple -pix_fmt options specified for stream 0, only the last option '-pix_fmt yuv420p' will be used.\n"
     ]
    },
    {
     "name": "stdout",
     "output_type": "stream",
     "text": [
      "video episode_000025.mp4 is generated: training_data_task_1/videos/chunk-000/observation.images.ego_view/episode_000025.mp4\n"
     ]
    },
    {
     "name": "stderr",
     "output_type": "stream",
     "text": [
      "Multiple -pix_fmt options specified for stream 0, only the last option '-pix_fmt yuv420p' will be used.\n"
     ]
    },
    {
     "name": "stdout",
     "output_type": "stream",
     "text": [
      "video episode_000025.mp4 is generated: training_data_task_1/videos/chunk-000/observation.images.second_view/episode_000025.mp4\n",
      "****************************************************************************************************\n",
      "26: collect_data/data/2025_07_21-15_52_11\n",
      "task_idx: 1\n",
      "episode_000026.parquet is generated: training_data_task_1/data/chunk-000/episode_000026.parquet\n"
     ]
    },
    {
     "name": "stderr",
     "output_type": "stream",
     "text": [
      "Multiple -pix_fmt options specified for stream 0, only the last option '-pix_fmt yuv420p' will be used.\n"
     ]
    },
    {
     "name": "stdout",
     "output_type": "stream",
     "text": [
      "video episode_000026.mp4 is generated: training_data_task_1/videos/chunk-000/observation.images.ego_view/episode_000026.mp4\n"
     ]
    },
    {
     "name": "stderr",
     "output_type": "stream",
     "text": [
      "Multiple -pix_fmt options specified for stream 0, only the last option '-pix_fmt yuv420p' will be used.\n"
     ]
    },
    {
     "name": "stdout",
     "output_type": "stream",
     "text": [
      "video episode_000026.mp4 is generated: training_data_task_1/videos/chunk-000/observation.images.second_view/episode_000026.mp4\n",
      "****************************************************************************************************\n",
      "27: collect_data/data/2025_07_21-15_53_03\n",
      "task_idx: 1\n",
      "episode_000027.parquet is generated: training_data_task_1/data/chunk-000/episode_000027.parquet\n"
     ]
    },
    {
     "name": "stderr",
     "output_type": "stream",
     "text": [
      "Multiple -pix_fmt options specified for stream 0, only the last option '-pix_fmt yuv420p' will be used.\n"
     ]
    },
    {
     "name": "stdout",
     "output_type": "stream",
     "text": [
      "video episode_000027.mp4 is generated: training_data_task_1/videos/chunk-000/observation.images.ego_view/episode_000027.mp4\n"
     ]
    },
    {
     "name": "stderr",
     "output_type": "stream",
     "text": [
      "Multiple -pix_fmt options specified for stream 0, only the last option '-pix_fmt yuv420p' will be used.\n"
     ]
    },
    {
     "name": "stdout",
     "output_type": "stream",
     "text": [
      "video episode_000027.mp4 is generated: training_data_task_1/videos/chunk-000/observation.images.second_view/episode_000027.mp4\n",
      "****************************************************************************************************\n",
      "28: collect_data/data/2025_07_21-15_54_01\n",
      "task_idx: 1\n",
      "episode_000028.parquet is generated: training_data_task_1/data/chunk-000/episode_000028.parquet\n"
     ]
    },
    {
     "name": "stderr",
     "output_type": "stream",
     "text": [
      "Multiple -pix_fmt options specified for stream 0, only the last option '-pix_fmt yuv420p' will be used.\n"
     ]
    },
    {
     "name": "stdout",
     "output_type": "stream",
     "text": [
      "video episode_000028.mp4 is generated: training_data_task_1/videos/chunk-000/observation.images.ego_view/episode_000028.mp4\n"
     ]
    },
    {
     "name": "stderr",
     "output_type": "stream",
     "text": [
      "Multiple -pix_fmt options specified for stream 0, only the last option '-pix_fmt yuv420p' will be used.\n"
     ]
    },
    {
     "name": "stdout",
     "output_type": "stream",
     "text": [
      "video episode_000028.mp4 is generated: training_data_task_1/videos/chunk-000/observation.images.second_view/episode_000028.mp4\n",
      "****************************************************************************************************\n",
      "29: collect_data/data/2025_07_21-15_55_03\n",
      "task_idx: 1\n",
      "episode_000029.parquet is generated: training_data_task_1/data/chunk-000/episode_000029.parquet\n"
     ]
    },
    {
     "name": "stderr",
     "output_type": "stream",
     "text": [
      "Multiple -pix_fmt options specified for stream 0, only the last option '-pix_fmt yuv420p' will be used.\n"
     ]
    },
    {
     "name": "stdout",
     "output_type": "stream",
     "text": [
      "video episode_000029.mp4 is generated: training_data_task_1/videos/chunk-000/observation.images.ego_view/episode_000029.mp4\n"
     ]
    },
    {
     "name": "stderr",
     "output_type": "stream",
     "text": [
      "Multiple -pix_fmt options specified for stream 0, only the last option '-pix_fmt yuv420p' will be used.\n"
     ]
    },
    {
     "name": "stdout",
     "output_type": "stream",
     "text": [
      "video episode_000029.mp4 is generated: training_data_task_1/videos/chunk-000/observation.images.second_view/episode_000029.mp4\n",
      "****************************************************************************************************\n",
      "30: collect_data/data/2025_07_21-15_55_55\n",
      "task_idx: 1\n",
      "episode_000030.parquet is generated: training_data_task_1/data/chunk-000/episode_000030.parquet\n"
     ]
    },
    {
     "name": "stderr",
     "output_type": "stream",
     "text": [
      "Multiple -pix_fmt options specified for stream 0, only the last option '-pix_fmt yuv420p' will be used.\n"
     ]
    },
    {
     "name": "stdout",
     "output_type": "stream",
     "text": [
      "video episode_000030.mp4 is generated: training_data_task_1/videos/chunk-000/observation.images.ego_view/episode_000030.mp4\n"
     ]
    },
    {
     "name": "stderr",
     "output_type": "stream",
     "text": [
      "Multiple -pix_fmt options specified for stream 0, only the last option '-pix_fmt yuv420p' will be used.\n"
     ]
    },
    {
     "name": "stdout",
     "output_type": "stream",
     "text": [
      "video episode_000030.mp4 is generated: training_data_task_1/videos/chunk-000/observation.images.second_view/episode_000030.mp4\n",
      "****************************************************************************************************\n",
      "31: collect_data/data/2025_07_21-15_56_49\n",
      "task_idx: 1\n",
      "episode_000031.parquet is generated: training_data_task_1/data/chunk-000/episode_000031.parquet\n"
     ]
    },
    {
     "name": "stderr",
     "output_type": "stream",
     "text": [
      "Multiple -pix_fmt options specified for stream 0, only the last option '-pix_fmt yuv420p' will be used.\n"
     ]
    },
    {
     "name": "stdout",
     "output_type": "stream",
     "text": [
      "video episode_000031.mp4 is generated: training_data_task_1/videos/chunk-000/observation.images.ego_view/episode_000031.mp4\n"
     ]
    },
    {
     "name": "stderr",
     "output_type": "stream",
     "text": [
      "Multiple -pix_fmt options specified for stream 0, only the last option '-pix_fmt yuv420p' will be used.\n"
     ]
    },
    {
     "name": "stdout",
     "output_type": "stream",
     "text": [
      "video episode_000031.mp4 is generated: training_data_task_1/videos/chunk-000/observation.images.second_view/episode_000031.mp4\n",
      "****************************************************************************************************\n",
      "32: collect_data/data/2025_07_21-15_57_40\n",
      "task_idx: 1\n",
      "episode_000032.parquet is generated: training_data_task_1/data/chunk-000/episode_000032.parquet\n"
     ]
    },
    {
     "name": "stderr",
     "output_type": "stream",
     "text": [
      "Multiple -pix_fmt options specified for stream 0, only the last option '-pix_fmt yuv420p' will be used.\n"
     ]
    },
    {
     "name": "stdout",
     "output_type": "stream",
     "text": [
      "video episode_000032.mp4 is generated: training_data_task_1/videos/chunk-000/observation.images.ego_view/episode_000032.mp4\n"
     ]
    },
    {
     "name": "stderr",
     "output_type": "stream",
     "text": [
      "Multiple -pix_fmt options specified for stream 0, only the last option '-pix_fmt yuv420p' will be used.\n"
     ]
    },
    {
     "name": "stdout",
     "output_type": "stream",
     "text": [
      "video episode_000032.mp4 is generated: training_data_task_1/videos/chunk-000/observation.images.second_view/episode_000032.mp4\n",
      "****************************************************************************************************\n",
      "33: collect_data/data/2025_07_21-15_58_29\n",
      "task_idx: 1\n",
      "episode_000033.parquet is generated: training_data_task_1/data/chunk-000/episode_000033.parquet\n"
     ]
    },
    {
     "name": "stderr",
     "output_type": "stream",
     "text": [
      "Multiple -pix_fmt options specified for stream 0, only the last option '-pix_fmt yuv420p' will be used.\n"
     ]
    },
    {
     "name": "stdout",
     "output_type": "stream",
     "text": [
      "video episode_000033.mp4 is generated: training_data_task_1/videos/chunk-000/observation.images.ego_view/episode_000033.mp4\n"
     ]
    },
    {
     "name": "stderr",
     "output_type": "stream",
     "text": [
      "Multiple -pix_fmt options specified for stream 0, only the last option '-pix_fmt yuv420p' will be used.\n"
     ]
    },
    {
     "name": "stdout",
     "output_type": "stream",
     "text": [
      "video episode_000033.mp4 is generated: training_data_task_1/videos/chunk-000/observation.images.second_view/episode_000033.mp4\n",
      "****************************************************************************************************\n",
      "34: collect_data/data/2025_07_21-15_59_29\n",
      "task_idx: 1\n",
      "episode_000034.parquet is generated: training_data_task_1/data/chunk-000/episode_000034.parquet\n"
     ]
    },
    {
     "name": "stderr",
     "output_type": "stream",
     "text": [
      "Multiple -pix_fmt options specified for stream 0, only the last option '-pix_fmt yuv420p' will be used.\n"
     ]
    },
    {
     "name": "stdout",
     "output_type": "stream",
     "text": [
      "video episode_000034.mp4 is generated: training_data_task_1/videos/chunk-000/observation.images.ego_view/episode_000034.mp4\n"
     ]
    },
    {
     "name": "stderr",
     "output_type": "stream",
     "text": [
      "Multiple -pix_fmt options specified for stream 0, only the last option '-pix_fmt yuv420p' will be used.\n"
     ]
    },
    {
     "name": "stdout",
     "output_type": "stream",
     "text": [
      "video episode_000034.mp4 is generated: training_data_task_1/videos/chunk-000/observation.images.second_view/episode_000034.mp4\n",
      "****************************************************************************************************\n",
      "35: collect_data/data/2025_07_21-16_00_12\n",
      "task_idx: 1\n",
      "episode_000035.parquet is generated: training_data_task_1/data/chunk-000/episode_000035.parquet\n"
     ]
    },
    {
     "name": "stderr",
     "output_type": "stream",
     "text": [
      "Multiple -pix_fmt options specified for stream 0, only the last option '-pix_fmt yuv420p' will be used.\n"
     ]
    },
    {
     "name": "stdout",
     "output_type": "stream",
     "text": [
      "video episode_000035.mp4 is generated: training_data_task_1/videos/chunk-000/observation.images.ego_view/episode_000035.mp4\n"
     ]
    },
    {
     "name": "stderr",
     "output_type": "stream",
     "text": [
      "Multiple -pix_fmt options specified for stream 0, only the last option '-pix_fmt yuv420p' will be used.\n"
     ]
    },
    {
     "name": "stdout",
     "output_type": "stream",
     "text": [
      "video episode_000035.mp4 is generated: training_data_task_1/videos/chunk-000/observation.images.second_view/episode_000035.mp4\n",
      "****************************************************************************************************\n",
      "36: collect_data/data/2025_07_21-16_01_00\n",
      "task_idx: 1\n",
      "episode_000036.parquet is generated: training_data_task_1/data/chunk-000/episode_000036.parquet\n"
     ]
    },
    {
     "name": "stderr",
     "output_type": "stream",
     "text": [
      "Multiple -pix_fmt options specified for stream 0, only the last option '-pix_fmt yuv420p' will be used.\n"
     ]
    },
    {
     "name": "stdout",
     "output_type": "stream",
     "text": [
      "video episode_000036.mp4 is generated: training_data_task_1/videos/chunk-000/observation.images.ego_view/episode_000036.mp4\n"
     ]
    },
    {
     "name": "stderr",
     "output_type": "stream",
     "text": [
      "Multiple -pix_fmt options specified for stream 0, only the last option '-pix_fmt yuv420p' will be used.\n"
     ]
    },
    {
     "name": "stdout",
     "output_type": "stream",
     "text": [
      "video episode_000036.mp4 is generated: training_data_task_1/videos/chunk-000/observation.images.second_view/episode_000036.mp4\n",
      "****************************************************************************************************\n",
      "37: collect_data/data/2025_07_21-16_02_33\n",
      "task_idx: 1\n",
      "episode_000037.parquet is generated: training_data_task_1/data/chunk-000/episode_000037.parquet\n"
     ]
    },
    {
     "name": "stderr",
     "output_type": "stream",
     "text": [
      "Multiple -pix_fmt options specified for stream 0, only the last option '-pix_fmt yuv420p' will be used.\n"
     ]
    },
    {
     "name": "stdout",
     "output_type": "stream",
     "text": [
      "video episode_000037.mp4 is generated: training_data_task_1/videos/chunk-000/observation.images.ego_view/episode_000037.mp4\n"
     ]
    },
    {
     "name": "stderr",
     "output_type": "stream",
     "text": [
      "Multiple -pix_fmt options specified for stream 0, only the last option '-pix_fmt yuv420p' will be used.\n"
     ]
    },
    {
     "name": "stdout",
     "output_type": "stream",
     "text": [
      "video episode_000037.mp4 is generated: training_data_task_1/videos/chunk-000/observation.images.second_view/episode_000037.mp4\n",
      "****************************************************************************************************\n",
      "38: collect_data/data/2025_07_21-16_03_26\n",
      "task_idx: 1\n",
      "episode_000038.parquet is generated: training_data_task_1/data/chunk-000/episode_000038.parquet\n"
     ]
    },
    {
     "name": "stderr",
     "output_type": "stream",
     "text": [
      "Multiple -pix_fmt options specified for stream 0, only the last option '-pix_fmt yuv420p' will be used.\n"
     ]
    },
    {
     "name": "stdout",
     "output_type": "stream",
     "text": [
      "video episode_000038.mp4 is generated: training_data_task_1/videos/chunk-000/observation.images.ego_view/episode_000038.mp4\n"
     ]
    },
    {
     "name": "stderr",
     "output_type": "stream",
     "text": [
      "Multiple -pix_fmt options specified for stream 0, only the last option '-pix_fmt yuv420p' will be used.\n"
     ]
    },
    {
     "name": "stdout",
     "output_type": "stream",
     "text": [
      "video episode_000038.mp4 is generated: training_data_task_1/videos/chunk-000/observation.images.second_view/episode_000038.mp4\n",
      "****************************************************************************************************\n",
      "39: collect_data/data/2025_07_21-16_05_02\n",
      "task_idx: 1\n",
      "episode_000039.parquet is generated: training_data_task_1/data/chunk-000/episode_000039.parquet\n"
     ]
    },
    {
     "name": "stderr",
     "output_type": "stream",
     "text": [
      "Multiple -pix_fmt options specified for stream 0, only the last option '-pix_fmt yuv420p' will be used.\n"
     ]
    },
    {
     "name": "stdout",
     "output_type": "stream",
     "text": [
      "video episode_000039.mp4 is generated: training_data_task_1/videos/chunk-000/observation.images.ego_view/episode_000039.mp4\n"
     ]
    },
    {
     "name": "stderr",
     "output_type": "stream",
     "text": [
      "Multiple -pix_fmt options specified for stream 0, only the last option '-pix_fmt yuv420p' will be used.\n"
     ]
    },
    {
     "name": "stdout",
     "output_type": "stream",
     "text": [
      "video episode_000039.mp4 is generated: training_data_task_1/videos/chunk-000/observation.images.second_view/episode_000039.mp4\n",
      "****************************************************************************************************\n",
      "40: collect_data/data/2025_07_21-16_06_03\n",
      "task_idx: 1\n",
      "episode_000040.parquet is generated: training_data_task_1/data/chunk-000/episode_000040.parquet\n"
     ]
    },
    {
     "name": "stderr",
     "output_type": "stream",
     "text": [
      "Multiple -pix_fmt options specified for stream 0, only the last option '-pix_fmt yuv420p' will be used.\n"
     ]
    },
    {
     "name": "stdout",
     "output_type": "stream",
     "text": [
      "video episode_000040.mp4 is generated: training_data_task_1/videos/chunk-000/observation.images.ego_view/episode_000040.mp4\n"
     ]
    },
    {
     "name": "stderr",
     "output_type": "stream",
     "text": [
      "Multiple -pix_fmt options specified for stream 0, only the last option '-pix_fmt yuv420p' will be used.\n"
     ]
    },
    {
     "name": "stdout",
     "output_type": "stream",
     "text": [
      "video episode_000040.mp4 is generated: training_data_task_1/videos/chunk-000/observation.images.second_view/episode_000040.mp4\n",
      "****************************************************************************************************\n",
      "41: collect_data/data/2025_07_21-16_06_43\n",
      "task_idx: 1\n",
      "episode_000041.parquet is generated: training_data_task_1/data/chunk-000/episode_000041.parquet\n"
     ]
    },
    {
     "name": "stderr",
     "output_type": "stream",
     "text": [
      "Multiple -pix_fmt options specified for stream 0, only the last option '-pix_fmt yuv420p' will be used.\n"
     ]
    },
    {
     "name": "stdout",
     "output_type": "stream",
     "text": [
      "video episode_000041.mp4 is generated: training_data_task_1/videos/chunk-000/observation.images.ego_view/episode_000041.mp4\n"
     ]
    },
    {
     "name": "stderr",
     "output_type": "stream",
     "text": [
      "Multiple -pix_fmt options specified for stream 0, only the last option '-pix_fmt yuv420p' will be used.\n"
     ]
    },
    {
     "name": "stdout",
     "output_type": "stream",
     "text": [
      "video episode_000041.mp4 is generated: training_data_task_1/videos/chunk-000/observation.images.second_view/episode_000041.mp4\n",
      "****************************************************************************************************\n",
      "42: collect_data/data/2025_07_21-16_07_30\n",
      "task_idx: 1\n",
      "episode_000042.parquet is generated: training_data_task_1/data/chunk-000/episode_000042.parquet\n"
     ]
    },
    {
     "name": "stderr",
     "output_type": "stream",
     "text": [
      "Multiple -pix_fmt options specified for stream 0, only the last option '-pix_fmt yuv420p' will be used.\n"
     ]
    },
    {
     "name": "stdout",
     "output_type": "stream",
     "text": [
      "video episode_000042.mp4 is generated: training_data_task_1/videos/chunk-000/observation.images.ego_view/episode_000042.mp4\n"
     ]
    },
    {
     "name": "stderr",
     "output_type": "stream",
     "text": [
      "Multiple -pix_fmt options specified for stream 0, only the last option '-pix_fmt yuv420p' will be used.\n"
     ]
    },
    {
     "name": "stdout",
     "output_type": "stream",
     "text": [
      "video episode_000042.mp4 is generated: training_data_task_1/videos/chunk-000/observation.images.second_view/episode_000042.mp4\n",
      "****************************************************************************************************\n",
      "43: collect_data/data/2025_07_21-16_08_16\n",
      "task_idx: 1\n",
      "episode_000043.parquet is generated: training_data_task_1/data/chunk-000/episode_000043.parquet\n"
     ]
    },
    {
     "name": "stderr",
     "output_type": "stream",
     "text": [
      "Multiple -pix_fmt options specified for stream 0, only the last option '-pix_fmt yuv420p' will be used.\n"
     ]
    },
    {
     "name": "stdout",
     "output_type": "stream",
     "text": [
      "video episode_000043.mp4 is generated: training_data_task_1/videos/chunk-000/observation.images.ego_view/episode_000043.mp4\n"
     ]
    },
    {
     "name": "stderr",
     "output_type": "stream",
     "text": [
      "Multiple -pix_fmt options specified for stream 0, only the last option '-pix_fmt yuv420p' will be used.\n"
     ]
    },
    {
     "name": "stdout",
     "output_type": "stream",
     "text": [
      "video episode_000043.mp4 is generated: training_data_task_1/videos/chunk-000/observation.images.second_view/episode_000043.mp4\n",
      "****************************************************************************************************\n",
      "44: collect_data/data/2025_07_21-16_09_51\n",
      "task_idx: 1\n",
      "episode_000044.parquet is generated: training_data_task_1/data/chunk-000/episode_000044.parquet\n"
     ]
    },
    {
     "name": "stderr",
     "output_type": "stream",
     "text": [
      "Multiple -pix_fmt options specified for stream 0, only the last option '-pix_fmt yuv420p' will be used.\n"
     ]
    },
    {
     "name": "stdout",
     "output_type": "stream",
     "text": [
      "video episode_000044.mp4 is generated: training_data_task_1/videos/chunk-000/observation.images.ego_view/episode_000044.mp4\n"
     ]
    },
    {
     "name": "stderr",
     "output_type": "stream",
     "text": [
      "Multiple -pix_fmt options specified for stream 0, only the last option '-pix_fmt yuv420p' will be used.\n"
     ]
    },
    {
     "name": "stdout",
     "output_type": "stream",
     "text": [
      "video episode_000044.mp4 is generated: training_data_task_1/videos/chunk-000/observation.images.second_view/episode_000044.mp4\n",
      "****************************************************************************************************\n",
      "45: collect_data/data/2025_07_21-16_10_30\n",
      "task_idx: 1\n",
      "episode_000045.parquet is generated: training_data_task_1/data/chunk-000/episode_000045.parquet\n"
     ]
    },
    {
     "name": "stderr",
     "output_type": "stream",
     "text": [
      "Multiple -pix_fmt options specified for stream 0, only the last option '-pix_fmt yuv420p' will be used.\n"
     ]
    },
    {
     "name": "stdout",
     "output_type": "stream",
     "text": [
      "video episode_000045.mp4 is generated: training_data_task_1/videos/chunk-000/observation.images.ego_view/episode_000045.mp4\n"
     ]
    },
    {
     "name": "stderr",
     "output_type": "stream",
     "text": [
      "Multiple -pix_fmt options specified for stream 0, only the last option '-pix_fmt yuv420p' will be used.\n"
     ]
    },
    {
     "name": "stdout",
     "output_type": "stream",
     "text": [
      "video episode_000045.mp4 is generated: training_data_task_1/videos/chunk-000/observation.images.second_view/episode_000045.mp4\n",
      "****************************************************************************************************\n",
      "46: collect_data/data/2025_07_21-16_11_10\n",
      "task_idx: 1\n",
      "episode_000046.parquet is generated: training_data_task_1/data/chunk-000/episode_000046.parquet\n"
     ]
    },
    {
     "name": "stderr",
     "output_type": "stream",
     "text": [
      "Multiple -pix_fmt options specified for stream 0, only the last option '-pix_fmt yuv420p' will be used.\n"
     ]
    },
    {
     "name": "stdout",
     "output_type": "stream",
     "text": [
      "video episode_000046.mp4 is generated: training_data_task_1/videos/chunk-000/observation.images.ego_view/episode_000046.mp4\n"
     ]
    },
    {
     "name": "stderr",
     "output_type": "stream",
     "text": [
      "Multiple -pix_fmt options specified for stream 0, only the last option '-pix_fmt yuv420p' will be used.\n"
     ]
    },
    {
     "name": "stdout",
     "output_type": "stream",
     "text": [
      "video episode_000046.mp4 is generated: training_data_task_1/videos/chunk-000/observation.images.second_view/episode_000046.mp4\n",
      "****************************************************************************************************\n",
      "47: collect_data/data/2025_07_21-16_11_56\n",
      "task_idx: 1\n",
      "episode_000047.parquet is generated: training_data_task_1/data/chunk-000/episode_000047.parquet\n"
     ]
    },
    {
     "name": "stderr",
     "output_type": "stream",
     "text": [
      "Multiple -pix_fmt options specified for stream 0, only the last option '-pix_fmt yuv420p' will be used.\n"
     ]
    },
    {
     "name": "stdout",
     "output_type": "stream",
     "text": [
      "video episode_000047.mp4 is generated: training_data_task_1/videos/chunk-000/observation.images.ego_view/episode_000047.mp4\n"
     ]
    },
    {
     "name": "stderr",
     "output_type": "stream",
     "text": [
      "Multiple -pix_fmt options specified for stream 0, only the last option '-pix_fmt yuv420p' will be used.\n"
     ]
    },
    {
     "name": "stdout",
     "output_type": "stream",
     "text": [
      "video episode_000047.mp4 is generated: training_data_task_1/videos/chunk-000/observation.images.second_view/episode_000047.mp4\n",
      "****************************************************************************************************\n",
      "48: collect_data/data/2025_07_21-16_12_50\n",
      "task_idx: 1\n",
      "episode_000048.parquet is generated: training_data_task_1/data/chunk-000/episode_000048.parquet\n"
     ]
    },
    {
     "name": "stderr",
     "output_type": "stream",
     "text": [
      "Multiple -pix_fmt options specified for stream 0, only the last option '-pix_fmt yuv420p' will be used.\n"
     ]
    },
    {
     "name": "stdout",
     "output_type": "stream",
     "text": [
      "video episode_000048.mp4 is generated: training_data_task_1/videos/chunk-000/observation.images.ego_view/episode_000048.mp4\n"
     ]
    },
    {
     "name": "stderr",
     "output_type": "stream",
     "text": [
      "Multiple -pix_fmt options specified for stream 0, only the last option '-pix_fmt yuv420p' will be used.\n"
     ]
    },
    {
     "name": "stdout",
     "output_type": "stream",
     "text": [
      "video episode_000048.mp4 is generated: training_data_task_1/videos/chunk-000/observation.images.second_view/episode_000048.mp4\n",
      "--------------------------------------------------\n",
      "total numbers: 34531\n"
     ]
    }
   ],
   "source": [
    "# global_idx = 15825 # next global index\n",
    "# current_epi_idx = 50 # next episode\n",
    "\n",
    "global_idx = 0 # next global index\n",
    "current_epi_idx = 0 # next episode\n",
    "\n",
    "for idx, folder in enumerate(sorted(SOURCE_DIR.iterdir())):    \n",
    "    print(\"*\" * 100)\n",
    "    print(f\"{idx+current_epi_idx}: {folder}\")\n",
    "    \n",
    "    global_idx = parquet_file_generation(idx + current_epi_idx,folder, global_idx)\n",
    "    \n",
    "    video_generation(idx + current_epi_idx,folder)\n",
    "\n",
    "print(\"-\" * 50)\n",
    "print(f\"total numbers: {global_idx }\")"
   ]
  },
  {
   "cell_type": "code",
   "execution_count": null,
   "id": "df8419f2",
   "metadata": {},
   "outputs": [],
   "source": []
  }
 ],
 "metadata": {
  "kernelspec": {
   "display_name": "gr00t",
   "language": "python",
   "name": "python3"
  },
  "language_info": {
   "codemirror_mode": {
    "name": "ipython",
    "version": 3
   },
   "file_extension": ".py",
   "mimetype": "text/x-python",
   "name": "python",
   "nbconvert_exporter": "python",
   "pygments_lexer": "ipython3",
   "version": "3.10.16"
  }
 },
 "nbformat": 4,
 "nbformat_minor": 5
}
