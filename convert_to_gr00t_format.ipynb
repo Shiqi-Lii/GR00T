{
 "cells": [
  {
   "cell_type": "code",
   "execution_count": 5,
   "id": "2d760897",
   "metadata": {},
   "outputs": [],
   "source": [
    "import json\n",
    "import pandas as pd\n",
    "import torch\n",
    "from pathlib import Path\n",
    "from collections import OrderedDict\n",
    "import numpy as np\n",
    "import imageio.v2 as imageio\n",
    "from PIL import Image\n",
    "import cv2\n",
    "from natsort import natsorted"
   ]
  },
  {
   "cell_type": "code",
   "execution_count": 6,
   "id": "5a3e1834",
   "metadata": {},
   "outputs": [],
   "source": [
    "# -----------------------------\n",
    "# User configuration - adjust these paths as needed\n",
    "# -----------------------------\n",
    "SOURCE_DIR = Path(\"collect_data/data\")  # Path to folder containing .pt files and sensor/top_cam\n",
    "OUTPUT_DIR = Path(\"training_data\")    # Path where GR00T-formatted dataset will be created\n",
    " \n",
    "# -----------------------------\n",
    "# Step 1: Create target directory structure\n",
    "# -----------------------------\n",
    "# data/chunk-000 for .parquet files\n",
    "(OUTPUT_DIR / \"data\" / \"chunk-000\").mkdir(parents=True, exist_ok=True)\n",
    "# videos/chunk-000/observation.images.ego_view for image frames\n",
    "(OUTPUT_DIR / \"videos\" / \"chunk-000\" / \"observation.images.ego_view\").mkdir(parents=True, exist_ok=True)\n",
    "# meta directory\n",
    "(OUTPUT_DIR / \"meta\").mkdir(parents=True, exist_ok=True)\n"
   ]
  },
  {
   "cell_type": "code",
   "execution_count": 7,
   "id": "8ae7c42b",
   "metadata": {},
   "outputs": [],
   "source": [
    "# -----------------------------\n",
    "# Step 2: Load all .pt tensors\n",
    "# -----------------------------\n",
    "def load_tensor(path: Path):\n",
    "    \"\"\"Helper to load a torch tensor from a .pt file.\"\"\"\n",
    "    return torch.load(path, map_location=\"cpu\",weights_only=True)\n",
    "\n",
    "\n",
    "def parquet_file_generation(idx, folder, global_idx):\n",
    "    gripper_state = load_tensor(folder / \"Panda 10 follower\" / \"gripper_state.pt\")      # shape: [686]\n",
    "    # print(gripper_state.shape)\n",
    "    joint_pos = load_tensor(folder / \"Panda 10 follower\" / \"joint_pos.pt\")       # shape: [686, 7]\n",
    "    # print(joint_pos.shape)\n",
    "    # joint_vel = load_tensor(folder / \"Panda 10 follower\" / \"joint_vel.pt\")       # shape: [686, 7]\n",
    "    # print(joint_vel.shape)\n",
    "    \n",
    "    # timestamps tensor\n",
    "    timestamps = load_tensor(folder / \"timestamps.pt\")                                  # shape: [686]\n",
    "\n",
    "    task_file = (folder/\"task\")\n",
    "    \n",
    "    with open(task_file, \"r\") as f:\n",
    "        task_idx = int(f.read().strip())\n",
    "    print(f\"task_idx: {task_idx}\")\n",
    "\n",
    "    num_steps = gripper_state.shape[0] - 1\n",
    "\n",
    "    # Step 3: Write each time step as a single-row Parquet file\n",
    "    # -----------------------------\n",
    "    state_parts = OrderedDict([\n",
    "        (\"joint_pos\",    joint_pos[:-1,:]),\n",
    "        (\"gripper_state\", gripper_state[:-1]),\n",
    "        # (\"joint_vel\",    joint_vel[:-1,:]),\n",
    "    ])\n",
    "    action_parts = OrderedDict([\n",
    "        (\"joint_pos\",    joint_pos[1:,:]),\n",
    "        (\"gripper_state\", gripper_state[1:]),\n",
    "        # (\"joint_vel\",    joint_vel[1:,:]),\n",
    "    ])\n",
    "\n",
    "    rows = []\n",
    "    for i in range(num_steps): \n",
    "        state_vec = np.concatenate([\n",
    "            arr[i].cpu().numpy().ravel() for arr in state_parts.values()\n",
    "        ])\n",
    "        action_vec = np.concatenate([\n",
    "            arr[i].cpu().numpy().ravel() for arr in action_parts.values()\n",
    "        ])\n",
    "        row = {\n",
    "            \"observation.state\": state_vec.tolist(),\n",
    "            \"action\":            action_vec.tolist(),\n",
    "            # \"timestamp\":         float(timestamps[i].item()),\n",
    "            \"timestamp\":         0.05 + i * 0.05,\n",
    "            \"annotation.human.action.task_description\": task_idx, # index of the task description in the meta/tasks.jsonl file\n",
    "            \"task_index\":        task_idx, # index of the task in the meta/tasks.jsonl file\n",
    "            # \"annotation.human.validity\": 1, \n",
    "            \"episode_index\":     idx,\n",
    "            \"index\":             global_idx,\n",
    "            \"next.reward\":       0.0,\n",
    "            \"next.done\":         False,\n",
    "        }\n",
    "        rows.append(row)\n",
    "        global_idx += 1\n",
    "\n",
    "    df = pd.DataFrame(rows)\n",
    "    df_path = OUTPUT_DIR / \"data\" / \"chunk-000\" / f\"episode_{idx:06d}.parquet\"\n",
    "    df.to_parquet(df_path)\n",
    "    print(f\"episode_{idx:06d}.parquet is generated: {df_path}\")\n",
    "\n",
    "    episodes_jsonl_data = {\"episode_index\":idx,\"tasks\":task_idx,\"length\":num_steps}\n",
    "    with open(OUTPUT_DIR / \"meta\"/ \"episodes.jsonl\", \"a\") as f:\n",
    "        f.write(json.dumps(episodes_jsonl_data) + \"\\n\")\n",
    "\n",
    "    return global_idx\n",
    "\n",
    "\n",
    "def video_generation(idx: int, folder: Path):\n",
    "    \n",
    "    # first camera view\n",
    "    src = folder / \"sensors\" / \"top_cam\"\n",
    "    output = OUTPUT_DIR / \"videos\" / \"chunk-000\" / \"observation.images.ego_view\" / f\"episode_{idx:06d}.mp4\"\n",
    "    output.parent.mkdir(parents=True, exist_ok=True)\n",
    "\n",
    "    image_files = natsorted(src.glob(\"*.*\"))\n",
    "    frames = []\n",
    "    for img_path in image_files:\n",
    "        arr = imageio.imread(str(img_path))\n",
    "        img = Image.fromarray(arr).resize((256, 256), Image.LANCZOS)\n",
    "        frames.append(np.array(img))\n",
    "\n",
    "    # ffmpeg_params = [\n",
    "    #     \"-pix_fmt\", \"yuv420p\"      \n",
    "    #     # \"-preset\", \"fast\",            \n",
    "    #     # \"-crf\", \"23\",                \n",
    "    #     # \"-vsync\", \"passthrough\",      \n",
    "    # ]\n",
    "\n",
    "    with imageio.get_writer(\n",
    "        str(output),\n",
    "        format=\"FFMPEG\",\n",
    "        mode=\"I\",\n",
    "        fps=20,\n",
    "        codec=\"libx264\",\n",
    "        ffmpeg_params=[\"-pix_fmt\", \"yuv420p\"]\n",
    "    ) as writer:\n",
    "        for frame in frames:\n",
    "            writer.append_data(frame)\n",
    "\n",
    "    print(f\"video episode_{idx:06d}.mp4 is generated: {output}\")\n",
    "\n",
    "    # second camera view\n",
    "    src2 = folder / \"sensors\" / \"side_cam\"\n",
    "    output2 = OUTPUT_DIR / \"videos\" / \"chunk-000\" / \"observation.images.second_view\" / f\"episode_{idx:06d}.mp4\"\n",
    "    output2.parent.mkdir(parents=True, exist_ok=True)\n",
    "\n",
    "    image_files2 = natsorted(src2.glob(\"*.*\"))\n",
    "    frames2 = []\n",
    "    for img_path in image_files2:\n",
    "        arr = imageio.imread(str(img_path))\n",
    "        img = Image.fromarray(arr).resize((256, 256), Image.LANCZOS)\n",
    "        frames2.append(np.array(img))\n",
    "\n",
    "    with imageio.get_writer(\n",
    "        str(output2),\n",
    "        format=\"FFMPEG\",\n",
    "        mode=\"I\",\n",
    "        fps=20,\n",
    "        codec=\"libx264\",\n",
    "        ffmpeg_params=[\"-pix_fmt\", \"yuv420p\"]\n",
    "    ) as writer:\n",
    "        for frame in frames2:\n",
    "            writer.append_data(frame)\n",
    "\n",
    "    print(f\"video episode_{idx:06d}.mp4 is generated: {output2}\")\n",
    "\n",
    "\n",
    "\n"
   ]
  },
  {
   "cell_type": "code",
   "execution_count": 8,
   "id": "b67b27bd",
   "metadata": {},
   "outputs": [
    {
     "name": "stdout",
     "output_type": "stream",
     "text": [
      "****************************************************************************************************\n",
      "39: collect_data/data/2025_07_17-16_14_00\n",
      "task_idx: 0\n",
      "episode_000039.parquet is generated: training_data/data/chunk-000/episode_000039.parquet\n"
     ]
    },
    {
     "name": "stderr",
     "output_type": "stream",
     "text": [
      "Multiple -pix_fmt options specified for stream 0, only the last option '-pix_fmt yuv420p' will be used.\n"
     ]
    },
    {
     "name": "stdout",
     "output_type": "stream",
     "text": [
      "video episode_000039.mp4 is generated: training_data/videos/chunk-000/observation.images.ego_view/episode_000039.mp4\n"
     ]
    },
    {
     "name": "stderr",
     "output_type": "stream",
     "text": [
      "Multiple -pix_fmt options specified for stream 0, only the last option '-pix_fmt yuv420p' will be used.\n"
     ]
    },
    {
     "name": "stdout",
     "output_type": "stream",
     "text": [
      "video episode_000039.mp4 is generated: training_data/videos/chunk-000/observation.images.second_view/episode_000039.mp4\n",
      "****************************************************************************************************\n",
      "40: collect_data/data/2025_07_17-16_14_46\n",
      "task_idx: 0\n",
      "episode_000040.parquet is generated: training_data/data/chunk-000/episode_000040.parquet\n"
     ]
    },
    {
     "name": "stderr",
     "output_type": "stream",
     "text": [
      "Multiple -pix_fmt options specified for stream 0, only the last option '-pix_fmt yuv420p' will be used.\n"
     ]
    },
    {
     "name": "stdout",
     "output_type": "stream",
     "text": [
      "video episode_000040.mp4 is generated: training_data/videos/chunk-000/observation.images.ego_view/episode_000040.mp4\n"
     ]
    },
    {
     "name": "stderr",
     "output_type": "stream",
     "text": [
      "Multiple -pix_fmt options specified for stream 0, only the last option '-pix_fmt yuv420p' will be used.\n"
     ]
    },
    {
     "name": "stdout",
     "output_type": "stream",
     "text": [
      "video episode_000040.mp4 is generated: training_data/videos/chunk-000/observation.images.second_view/episode_000040.mp4\n",
      "****************************************************************************************************\n",
      "41: collect_data/data/2025_07_17-16_16_56\n",
      "task_idx: 0\n",
      "episode_000041.parquet is generated: training_data/data/chunk-000/episode_000041.parquet\n"
     ]
    },
    {
     "name": "stderr",
     "output_type": "stream",
     "text": [
      "Multiple -pix_fmt options specified for stream 0, only the last option '-pix_fmt yuv420p' will be used.\n"
     ]
    },
    {
     "name": "stdout",
     "output_type": "stream",
     "text": [
      "video episode_000041.mp4 is generated: training_data/videos/chunk-000/observation.images.ego_view/episode_000041.mp4\n"
     ]
    },
    {
     "name": "stderr",
     "output_type": "stream",
     "text": [
      "Multiple -pix_fmt options specified for stream 0, only the last option '-pix_fmt yuv420p' will be used.\n"
     ]
    },
    {
     "name": "stdout",
     "output_type": "stream",
     "text": [
      "video episode_000041.mp4 is generated: training_data/videos/chunk-000/observation.images.second_view/episode_000041.mp4\n",
      "****************************************************************************************************\n",
      "42: collect_data/data/2025_07_17-16_18_42\n",
      "task_idx: 0\n",
      "episode_000042.parquet is generated: training_data/data/chunk-000/episode_000042.parquet\n"
     ]
    },
    {
     "name": "stderr",
     "output_type": "stream",
     "text": [
      "Multiple -pix_fmt options specified for stream 0, only the last option '-pix_fmt yuv420p' will be used.\n"
     ]
    },
    {
     "name": "stdout",
     "output_type": "stream",
     "text": [
      "video episode_000042.mp4 is generated: training_data/videos/chunk-000/observation.images.ego_view/episode_000042.mp4\n"
     ]
    },
    {
     "name": "stderr",
     "output_type": "stream",
     "text": [
      "Multiple -pix_fmt options specified for stream 0, only the last option '-pix_fmt yuv420p' will be used.\n"
     ]
    },
    {
     "name": "stdout",
     "output_type": "stream",
     "text": [
      "video episode_000042.mp4 is generated: training_data/videos/chunk-000/observation.images.second_view/episode_000042.mp4\n",
      "****************************************************************************************************\n",
      "43: collect_data/data/2025_07_17-16_19_26\n",
      "task_idx: 0\n",
      "episode_000043.parquet is generated: training_data/data/chunk-000/episode_000043.parquet\n"
     ]
    },
    {
     "name": "stderr",
     "output_type": "stream",
     "text": [
      "Multiple -pix_fmt options specified for stream 0, only the last option '-pix_fmt yuv420p' will be used.\n"
     ]
    },
    {
     "name": "stdout",
     "output_type": "stream",
     "text": [
      "video episode_000043.mp4 is generated: training_data/videos/chunk-000/observation.images.ego_view/episode_000043.mp4\n"
     ]
    },
    {
     "name": "stderr",
     "output_type": "stream",
     "text": [
      "Multiple -pix_fmt options specified for stream 0, only the last option '-pix_fmt yuv420p' will be used.\n"
     ]
    },
    {
     "name": "stdout",
     "output_type": "stream",
     "text": [
      "video episode_000043.mp4 is generated: training_data/videos/chunk-000/observation.images.second_view/episode_000043.mp4\n",
      "****************************************************************************************************\n",
      "44: collect_data/data/2025_07_17-16_20_11\n",
      "task_idx: 0\n",
      "episode_000044.parquet is generated: training_data/data/chunk-000/episode_000044.parquet\n"
     ]
    },
    {
     "name": "stderr",
     "output_type": "stream",
     "text": [
      "Multiple -pix_fmt options specified for stream 0, only the last option '-pix_fmt yuv420p' will be used.\n"
     ]
    },
    {
     "name": "stdout",
     "output_type": "stream",
     "text": [
      "video episode_000044.mp4 is generated: training_data/videos/chunk-000/observation.images.ego_view/episode_000044.mp4\n"
     ]
    },
    {
     "name": "stderr",
     "output_type": "stream",
     "text": [
      "Multiple -pix_fmt options specified for stream 0, only the last option '-pix_fmt yuv420p' will be used.\n"
     ]
    },
    {
     "name": "stdout",
     "output_type": "stream",
     "text": [
      "video episode_000044.mp4 is generated: training_data/videos/chunk-000/observation.images.second_view/episode_000044.mp4\n",
      "****************************************************************************************************\n",
      "45: collect_data/data/2025_07_17-16_20_44\n",
      "task_idx: 0\n",
      "episode_000045.parquet is generated: training_data/data/chunk-000/episode_000045.parquet\n"
     ]
    },
    {
     "name": "stderr",
     "output_type": "stream",
     "text": [
      "Multiple -pix_fmt options specified for stream 0, only the last option '-pix_fmt yuv420p' will be used.\n"
     ]
    },
    {
     "name": "stdout",
     "output_type": "stream",
     "text": [
      "video episode_000045.mp4 is generated: training_data/videos/chunk-000/observation.images.ego_view/episode_000045.mp4\n"
     ]
    },
    {
     "name": "stderr",
     "output_type": "stream",
     "text": [
      "Multiple -pix_fmt options specified for stream 0, only the last option '-pix_fmt yuv420p' will be used.\n"
     ]
    },
    {
     "name": "stdout",
     "output_type": "stream",
     "text": [
      "video episode_000045.mp4 is generated: training_data/videos/chunk-000/observation.images.second_view/episode_000045.mp4\n",
      "****************************************************************************************************\n",
      "46: collect_data/data/2025_07_17-16_21_20\n",
      "task_idx: 0\n",
      "episode_000046.parquet is generated: training_data/data/chunk-000/episode_000046.parquet\n"
     ]
    },
    {
     "name": "stderr",
     "output_type": "stream",
     "text": [
      "Multiple -pix_fmt options specified for stream 0, only the last option '-pix_fmt yuv420p' will be used.\n"
     ]
    },
    {
     "name": "stdout",
     "output_type": "stream",
     "text": [
      "video episode_000046.mp4 is generated: training_data/videos/chunk-000/observation.images.ego_view/episode_000046.mp4\n"
     ]
    },
    {
     "name": "stderr",
     "output_type": "stream",
     "text": [
      "Multiple -pix_fmt options specified for stream 0, only the last option '-pix_fmt yuv420p' will be used.\n"
     ]
    },
    {
     "name": "stdout",
     "output_type": "stream",
     "text": [
      "video episode_000046.mp4 is generated: training_data/videos/chunk-000/observation.images.second_view/episode_000046.mp4\n",
      "****************************************************************************************************\n",
      "47: collect_data/data/2025_07_17-16_21_50\n",
      "task_idx: 0\n",
      "episode_000047.parquet is generated: training_data/data/chunk-000/episode_000047.parquet\n"
     ]
    },
    {
     "name": "stderr",
     "output_type": "stream",
     "text": [
      "Multiple -pix_fmt options specified for stream 0, only the last option '-pix_fmt yuv420p' will be used.\n"
     ]
    },
    {
     "name": "stdout",
     "output_type": "stream",
     "text": [
      "video episode_000047.mp4 is generated: training_data/videos/chunk-000/observation.images.ego_view/episode_000047.mp4\n"
     ]
    },
    {
     "name": "stderr",
     "output_type": "stream",
     "text": [
      "Multiple -pix_fmt options specified for stream 0, only the last option '-pix_fmt yuv420p' will be used.\n"
     ]
    },
    {
     "name": "stdout",
     "output_type": "stream",
     "text": [
      "video episode_000047.mp4 is generated: training_data/videos/chunk-000/observation.images.second_view/episode_000047.mp4\n",
      "****************************************************************************************************\n",
      "48: collect_data/data/2025_07_17-16_22_23\n",
      "task_idx: 0\n",
      "episode_000048.parquet is generated: training_data/data/chunk-000/episode_000048.parquet\n"
     ]
    },
    {
     "name": "stderr",
     "output_type": "stream",
     "text": [
      "Multiple -pix_fmt options specified for stream 0, only the last option '-pix_fmt yuv420p' will be used.\n"
     ]
    },
    {
     "name": "stdout",
     "output_type": "stream",
     "text": [
      "video episode_000048.mp4 is generated: training_data/videos/chunk-000/observation.images.ego_view/episode_000048.mp4\n"
     ]
    },
    {
     "name": "stderr",
     "output_type": "stream",
     "text": [
      "Multiple -pix_fmt options specified for stream 0, only the last option '-pix_fmt yuv420p' will be used.\n"
     ]
    },
    {
     "name": "stdout",
     "output_type": "stream",
     "text": [
      "video episode_000048.mp4 is generated: training_data/videos/chunk-000/observation.images.second_view/episode_000048.mp4\n",
      "****************************************************************************************************\n",
      "49: collect_data/data/2025_07_17-16_23_00\n",
      "task_idx: 0\n",
      "episode_000049.parquet is generated: training_data/data/chunk-000/episode_000049.parquet\n"
     ]
    },
    {
     "name": "stderr",
     "output_type": "stream",
     "text": [
      "Multiple -pix_fmt options specified for stream 0, only the last option '-pix_fmt yuv420p' will be used.\n"
     ]
    },
    {
     "name": "stdout",
     "output_type": "stream",
     "text": [
      "video episode_000049.mp4 is generated: training_data/videos/chunk-000/observation.images.ego_view/episode_000049.mp4\n"
     ]
    },
    {
     "name": "stderr",
     "output_type": "stream",
     "text": [
      "Multiple -pix_fmt options specified for stream 0, only the last option '-pix_fmt yuv420p' will be used.\n"
     ]
    },
    {
     "name": "stdout",
     "output_type": "stream",
     "text": [
      "video episode_000049.mp4 is generated: training_data/videos/chunk-000/observation.images.second_view/episode_000049.mp4\n",
      "****************************************************************************************************\n",
      "50: collect_data/data/2025_07_17-16_23_45\n",
      "task_idx: 0\n",
      "episode_000050.parquet is generated: training_data/data/chunk-000/episode_000050.parquet\n"
     ]
    },
    {
     "name": "stderr",
     "output_type": "stream",
     "text": [
      "Multiple -pix_fmt options specified for stream 0, only the last option '-pix_fmt yuv420p' will be used.\n"
     ]
    },
    {
     "name": "stdout",
     "output_type": "stream",
     "text": [
      "video episode_000050.mp4 is generated: training_data/videos/chunk-000/observation.images.ego_view/episode_000050.mp4\n"
     ]
    },
    {
     "name": "stderr",
     "output_type": "stream",
     "text": [
      "Multiple -pix_fmt options specified for stream 0, only the last option '-pix_fmt yuv420p' will be used.\n"
     ]
    },
    {
     "name": "stdout",
     "output_type": "stream",
     "text": [
      "video episode_000050.mp4 is generated: training_data/videos/chunk-000/observation.images.second_view/episode_000050.mp4\n",
      "****************************************************************************************************\n",
      "51: collect_data/data/2025_07_17-16_24_24\n",
      "task_idx: 0\n",
      "episode_000051.parquet is generated: training_data/data/chunk-000/episode_000051.parquet\n"
     ]
    },
    {
     "name": "stderr",
     "output_type": "stream",
     "text": [
      "Multiple -pix_fmt options specified for stream 0, only the last option '-pix_fmt yuv420p' will be used.\n"
     ]
    },
    {
     "name": "stdout",
     "output_type": "stream",
     "text": [
      "video episode_000051.mp4 is generated: training_data/videos/chunk-000/observation.images.ego_view/episode_000051.mp4\n"
     ]
    },
    {
     "name": "stderr",
     "output_type": "stream",
     "text": [
      "Multiple -pix_fmt options specified for stream 0, only the last option '-pix_fmt yuv420p' will be used.\n"
     ]
    },
    {
     "name": "stdout",
     "output_type": "stream",
     "text": [
      "video episode_000051.mp4 is generated: training_data/videos/chunk-000/observation.images.second_view/episode_000051.mp4\n",
      "****************************************************************************************************\n",
      "52: collect_data/data/2025_07_17-16_24_58\n",
      "task_idx: 0\n",
      "episode_000052.parquet is generated: training_data/data/chunk-000/episode_000052.parquet\n"
     ]
    },
    {
     "name": "stderr",
     "output_type": "stream",
     "text": [
      "Multiple -pix_fmt options specified for stream 0, only the last option '-pix_fmt yuv420p' will be used.\n"
     ]
    },
    {
     "name": "stdout",
     "output_type": "stream",
     "text": [
      "video episode_000052.mp4 is generated: training_data/videos/chunk-000/observation.images.ego_view/episode_000052.mp4\n"
     ]
    },
    {
     "name": "stderr",
     "output_type": "stream",
     "text": [
      "Multiple -pix_fmt options specified for stream 0, only the last option '-pix_fmt yuv420p' will be used.\n"
     ]
    },
    {
     "name": "stdout",
     "output_type": "stream",
     "text": [
      "video episode_000052.mp4 is generated: training_data/videos/chunk-000/observation.images.second_view/episode_000052.mp4\n",
      "****************************************************************************************************\n",
      "53: collect_data/data/2025_07_17-16_25_36\n",
      "task_idx: 0\n",
      "episode_000053.parquet is generated: training_data/data/chunk-000/episode_000053.parquet\n"
     ]
    },
    {
     "name": "stderr",
     "output_type": "stream",
     "text": [
      "Multiple -pix_fmt options specified for stream 0, only the last option '-pix_fmt yuv420p' will be used.\n"
     ]
    },
    {
     "name": "stdout",
     "output_type": "stream",
     "text": [
      "video episode_000053.mp4 is generated: training_data/videos/chunk-000/observation.images.ego_view/episode_000053.mp4\n"
     ]
    },
    {
     "name": "stderr",
     "output_type": "stream",
     "text": [
      "Multiple -pix_fmt options specified for stream 0, only the last option '-pix_fmt yuv420p' will be used.\n"
     ]
    },
    {
     "name": "stdout",
     "output_type": "stream",
     "text": [
      "video episode_000053.mp4 is generated: training_data/videos/chunk-000/observation.images.second_view/episode_000053.mp4\n",
      "****************************************************************************************************\n",
      "54: collect_data/data/2025_07_17-16_26_14\n",
      "task_idx: 0\n",
      "episode_000054.parquet is generated: training_data/data/chunk-000/episode_000054.parquet\n"
     ]
    },
    {
     "name": "stderr",
     "output_type": "stream",
     "text": [
      "Multiple -pix_fmt options specified for stream 0, only the last option '-pix_fmt yuv420p' will be used.\n"
     ]
    },
    {
     "name": "stdout",
     "output_type": "stream",
     "text": [
      "video episode_000054.mp4 is generated: training_data/videos/chunk-000/observation.images.ego_view/episode_000054.mp4\n"
     ]
    },
    {
     "name": "stderr",
     "output_type": "stream",
     "text": [
      "Multiple -pix_fmt options specified for stream 0, only the last option '-pix_fmt yuv420p' will be used.\n"
     ]
    },
    {
     "name": "stdout",
     "output_type": "stream",
     "text": [
      "video episode_000054.mp4 is generated: training_data/videos/chunk-000/observation.images.second_view/episode_000054.mp4\n",
      "****************************************************************************************************\n",
      "55: collect_data/data/2025_07_17-16_26_50\n",
      "task_idx: 0\n",
      "episode_000055.parquet is generated: training_data/data/chunk-000/episode_000055.parquet\n"
     ]
    },
    {
     "name": "stderr",
     "output_type": "stream",
     "text": [
      "Multiple -pix_fmt options specified for stream 0, only the last option '-pix_fmt yuv420p' will be used.\n"
     ]
    },
    {
     "name": "stdout",
     "output_type": "stream",
     "text": [
      "video episode_000055.mp4 is generated: training_data/videos/chunk-000/observation.images.ego_view/episode_000055.mp4\n"
     ]
    },
    {
     "name": "stderr",
     "output_type": "stream",
     "text": [
      "Multiple -pix_fmt options specified for stream 0, only the last option '-pix_fmt yuv420p' will be used.\n"
     ]
    },
    {
     "name": "stdout",
     "output_type": "stream",
     "text": [
      "video episode_000055.mp4 is generated: training_data/videos/chunk-000/observation.images.second_view/episode_000055.mp4\n",
      "****************************************************************************************************\n",
      "56: collect_data/data/2025_07_17-16_27_31\n",
      "task_idx: 0\n",
      "episode_000056.parquet is generated: training_data/data/chunk-000/episode_000056.parquet\n"
     ]
    },
    {
     "name": "stderr",
     "output_type": "stream",
     "text": [
      "Multiple -pix_fmt options specified for stream 0, only the last option '-pix_fmt yuv420p' will be used.\n"
     ]
    },
    {
     "name": "stdout",
     "output_type": "stream",
     "text": [
      "video episode_000056.mp4 is generated: training_data/videos/chunk-000/observation.images.ego_view/episode_000056.mp4\n"
     ]
    },
    {
     "name": "stderr",
     "output_type": "stream",
     "text": [
      "Multiple -pix_fmt options specified for stream 0, only the last option '-pix_fmt yuv420p' will be used.\n"
     ]
    },
    {
     "name": "stdout",
     "output_type": "stream",
     "text": [
      "video episode_000056.mp4 is generated: training_data/videos/chunk-000/observation.images.second_view/episode_000056.mp4\n",
      "****************************************************************************************************\n",
      "57: collect_data/data/2025_07_17-16_28_02\n",
      "task_idx: 0\n",
      "episode_000057.parquet is generated: training_data/data/chunk-000/episode_000057.parquet\n"
     ]
    },
    {
     "name": "stderr",
     "output_type": "stream",
     "text": [
      "Multiple -pix_fmt options specified for stream 0, only the last option '-pix_fmt yuv420p' will be used.\n"
     ]
    },
    {
     "name": "stdout",
     "output_type": "stream",
     "text": [
      "video episode_000057.mp4 is generated: training_data/videos/chunk-000/observation.images.ego_view/episode_000057.mp4\n"
     ]
    },
    {
     "name": "stderr",
     "output_type": "stream",
     "text": [
      "Multiple -pix_fmt options specified for stream 0, only the last option '-pix_fmt yuv420p' will be used.\n"
     ]
    },
    {
     "name": "stdout",
     "output_type": "stream",
     "text": [
      "video episode_000057.mp4 is generated: training_data/videos/chunk-000/observation.images.second_view/episode_000057.mp4\n",
      "****************************************************************************************************\n",
      "58: collect_data/data/2025_07_17-16_28_32\n",
      "task_idx: 0\n",
      "episode_000058.parquet is generated: training_data/data/chunk-000/episode_000058.parquet\n"
     ]
    },
    {
     "name": "stderr",
     "output_type": "stream",
     "text": [
      "Multiple -pix_fmt options specified for stream 0, only the last option '-pix_fmt yuv420p' will be used.\n"
     ]
    },
    {
     "name": "stdout",
     "output_type": "stream",
     "text": [
      "video episode_000058.mp4 is generated: training_data/videos/chunk-000/observation.images.ego_view/episode_000058.mp4\n"
     ]
    },
    {
     "name": "stderr",
     "output_type": "stream",
     "text": [
      "Multiple -pix_fmt options specified for stream 0, only the last option '-pix_fmt yuv420p' will be used.\n"
     ]
    },
    {
     "name": "stdout",
     "output_type": "stream",
     "text": [
      "video episode_000058.mp4 is generated: training_data/videos/chunk-000/observation.images.second_view/episode_000058.mp4\n",
      "****************************************************************************************************\n",
      "59: collect_data/data/2025_07_17-16_29_00\n",
      "task_idx: 0\n",
      "episode_000059.parquet is generated: training_data/data/chunk-000/episode_000059.parquet\n"
     ]
    },
    {
     "name": "stderr",
     "output_type": "stream",
     "text": [
      "Multiple -pix_fmt options specified for stream 0, only the last option '-pix_fmt yuv420p' will be used.\n"
     ]
    },
    {
     "name": "stdout",
     "output_type": "stream",
     "text": [
      "video episode_000059.mp4 is generated: training_data/videos/chunk-000/observation.images.ego_view/episode_000059.mp4\n"
     ]
    },
    {
     "name": "stderr",
     "output_type": "stream",
     "text": [
      "Multiple -pix_fmt options specified for stream 0, only the last option '-pix_fmt yuv420p' will be used.\n"
     ]
    },
    {
     "name": "stdout",
     "output_type": "stream",
     "text": [
      "video episode_000059.mp4 is generated: training_data/videos/chunk-000/observation.images.second_view/episode_000059.mp4\n",
      "****************************************************************************************************\n",
      "60: collect_data/data/2025_07_17-16_29_28\n",
      "task_idx: 0\n",
      "episode_000060.parquet is generated: training_data/data/chunk-000/episode_000060.parquet\n"
     ]
    },
    {
     "name": "stderr",
     "output_type": "stream",
     "text": [
      "Multiple -pix_fmt options specified for stream 0, only the last option '-pix_fmt yuv420p' will be used.\n"
     ]
    },
    {
     "name": "stdout",
     "output_type": "stream",
     "text": [
      "video episode_000060.mp4 is generated: training_data/videos/chunk-000/observation.images.ego_view/episode_000060.mp4\n"
     ]
    },
    {
     "name": "stderr",
     "output_type": "stream",
     "text": [
      "Multiple -pix_fmt options specified for stream 0, only the last option '-pix_fmt yuv420p' will be used.\n"
     ]
    },
    {
     "name": "stdout",
     "output_type": "stream",
     "text": [
      "video episode_000060.mp4 is generated: training_data/videos/chunk-000/observation.images.second_view/episode_000060.mp4\n",
      "****************************************************************************************************\n",
      "61: collect_data/data/2025_07_17-16_29_58\n",
      "task_idx: 0\n",
      "episode_000061.parquet is generated: training_data/data/chunk-000/episode_000061.parquet\n"
     ]
    },
    {
     "name": "stderr",
     "output_type": "stream",
     "text": [
      "Multiple -pix_fmt options specified for stream 0, only the last option '-pix_fmt yuv420p' will be used.\n"
     ]
    },
    {
     "name": "stdout",
     "output_type": "stream",
     "text": [
      "video episode_000061.mp4 is generated: training_data/videos/chunk-000/observation.images.ego_view/episode_000061.mp4\n"
     ]
    },
    {
     "name": "stderr",
     "output_type": "stream",
     "text": [
      "Multiple -pix_fmt options specified for stream 0, only the last option '-pix_fmt yuv420p' will be used.\n"
     ]
    },
    {
     "name": "stdout",
     "output_type": "stream",
     "text": [
      "video episode_000061.mp4 is generated: training_data/videos/chunk-000/observation.images.second_view/episode_000061.mp4\n",
      "****************************************************************************************************\n",
      "62: collect_data/data/2025_07_17-16_30_33\n",
      "task_idx: 0\n",
      "episode_000062.parquet is generated: training_data/data/chunk-000/episode_000062.parquet\n"
     ]
    },
    {
     "name": "stderr",
     "output_type": "stream",
     "text": [
      "Multiple -pix_fmt options specified for stream 0, only the last option '-pix_fmt yuv420p' will be used.\n"
     ]
    },
    {
     "name": "stdout",
     "output_type": "stream",
     "text": [
      "video episode_000062.mp4 is generated: training_data/videos/chunk-000/observation.images.ego_view/episode_000062.mp4\n"
     ]
    },
    {
     "name": "stderr",
     "output_type": "stream",
     "text": [
      "Multiple -pix_fmt options specified for stream 0, only the last option '-pix_fmt yuv420p' will be used.\n"
     ]
    },
    {
     "name": "stdout",
     "output_type": "stream",
     "text": [
      "video episode_000062.mp4 is generated: training_data/videos/chunk-000/observation.images.second_view/episode_000062.mp4\n",
      "****************************************************************************************************\n",
      "63: collect_data/data/2025_07_17-16_31_05\n",
      "task_idx: 0\n",
      "episode_000063.parquet is generated: training_data/data/chunk-000/episode_000063.parquet\n"
     ]
    },
    {
     "name": "stderr",
     "output_type": "stream",
     "text": [
      "Multiple -pix_fmt options specified for stream 0, only the last option '-pix_fmt yuv420p' will be used.\n"
     ]
    },
    {
     "name": "stdout",
     "output_type": "stream",
     "text": [
      "video episode_000063.mp4 is generated: training_data/videos/chunk-000/observation.images.ego_view/episode_000063.mp4\n"
     ]
    },
    {
     "name": "stderr",
     "output_type": "stream",
     "text": [
      "Multiple -pix_fmt options specified for stream 0, only the last option '-pix_fmt yuv420p' will be used.\n"
     ]
    },
    {
     "name": "stdout",
     "output_type": "stream",
     "text": [
      "video episode_000063.mp4 is generated: training_data/videos/chunk-000/observation.images.second_view/episode_000063.mp4\n",
      "****************************************************************************************************\n",
      "64: collect_data/data/2025_07_17-16_31_40\n",
      "task_idx: 0\n",
      "episode_000064.parquet is generated: training_data/data/chunk-000/episode_000064.parquet\n"
     ]
    },
    {
     "name": "stderr",
     "output_type": "stream",
     "text": [
      "Multiple -pix_fmt options specified for stream 0, only the last option '-pix_fmt yuv420p' will be used.\n"
     ]
    },
    {
     "name": "stdout",
     "output_type": "stream",
     "text": [
      "video episode_000064.mp4 is generated: training_data/videos/chunk-000/observation.images.ego_view/episode_000064.mp4\n"
     ]
    },
    {
     "name": "stderr",
     "output_type": "stream",
     "text": [
      "Multiple -pix_fmt options specified for stream 0, only the last option '-pix_fmt yuv420p' will be used.\n"
     ]
    },
    {
     "name": "stdout",
     "output_type": "stream",
     "text": [
      "video episode_000064.mp4 is generated: training_data/videos/chunk-000/observation.images.second_view/episode_000064.mp4\n",
      "****************************************************************************************************\n",
      "65: collect_data/data/2025_07_17-16_32_15\n",
      "task_idx: 0\n",
      "episode_000065.parquet is generated: training_data/data/chunk-000/episode_000065.parquet\n"
     ]
    },
    {
     "name": "stderr",
     "output_type": "stream",
     "text": [
      "Multiple -pix_fmt options specified for stream 0, only the last option '-pix_fmt yuv420p' will be used.\n"
     ]
    },
    {
     "name": "stdout",
     "output_type": "stream",
     "text": [
      "video episode_000065.mp4 is generated: training_data/videos/chunk-000/observation.images.ego_view/episode_000065.mp4\n"
     ]
    },
    {
     "name": "stderr",
     "output_type": "stream",
     "text": [
      "Multiple -pix_fmt options specified for stream 0, only the last option '-pix_fmt yuv420p' will be used.\n"
     ]
    },
    {
     "name": "stdout",
     "output_type": "stream",
     "text": [
      "video episode_000065.mp4 is generated: training_data/videos/chunk-000/observation.images.second_view/episode_000065.mp4\n",
      "****************************************************************************************************\n",
      "66: collect_data/data/2025_07_17-16_32_52\n",
      "task_idx: 0\n",
      "episode_000066.parquet is generated: training_data/data/chunk-000/episode_000066.parquet\n"
     ]
    },
    {
     "name": "stderr",
     "output_type": "stream",
     "text": [
      "Multiple -pix_fmt options specified for stream 0, only the last option '-pix_fmt yuv420p' will be used.\n"
     ]
    },
    {
     "name": "stdout",
     "output_type": "stream",
     "text": [
      "video episode_000066.mp4 is generated: training_data/videos/chunk-000/observation.images.ego_view/episode_000066.mp4\n"
     ]
    },
    {
     "name": "stderr",
     "output_type": "stream",
     "text": [
      "Multiple -pix_fmt options specified for stream 0, only the last option '-pix_fmt yuv420p' will be used.\n"
     ]
    },
    {
     "name": "stdout",
     "output_type": "stream",
     "text": [
      "video episode_000066.mp4 is generated: training_data/videos/chunk-000/observation.images.second_view/episode_000066.mp4\n",
      "****************************************************************************************************\n",
      "67: collect_data/data/2025_07_17-16_33_40\n",
      "task_idx: 0\n",
      "episode_000067.parquet is generated: training_data/data/chunk-000/episode_000067.parquet\n"
     ]
    },
    {
     "name": "stderr",
     "output_type": "stream",
     "text": [
      "Multiple -pix_fmt options specified for stream 0, only the last option '-pix_fmt yuv420p' will be used.\n"
     ]
    },
    {
     "name": "stdout",
     "output_type": "stream",
     "text": [
      "video episode_000067.mp4 is generated: training_data/videos/chunk-000/observation.images.ego_view/episode_000067.mp4\n"
     ]
    },
    {
     "name": "stderr",
     "output_type": "stream",
     "text": [
      "Multiple -pix_fmt options specified for stream 0, only the last option '-pix_fmt yuv420p' will be used.\n"
     ]
    },
    {
     "name": "stdout",
     "output_type": "stream",
     "text": [
      "video episode_000067.mp4 is generated: training_data/videos/chunk-000/observation.images.second_view/episode_000067.mp4\n",
      "****************************************************************************************************\n",
      "68: collect_data/data/2025_07_17-16_34_17\n",
      "task_idx: 0\n",
      "episode_000068.parquet is generated: training_data/data/chunk-000/episode_000068.parquet\n"
     ]
    },
    {
     "name": "stderr",
     "output_type": "stream",
     "text": [
      "Multiple -pix_fmt options specified for stream 0, only the last option '-pix_fmt yuv420p' will be used.\n"
     ]
    },
    {
     "name": "stdout",
     "output_type": "stream",
     "text": [
      "video episode_000068.mp4 is generated: training_data/videos/chunk-000/observation.images.ego_view/episode_000068.mp4\n"
     ]
    },
    {
     "name": "stderr",
     "output_type": "stream",
     "text": [
      "Multiple -pix_fmt options specified for stream 0, only the last option '-pix_fmt yuv420p' will be used.\n"
     ]
    },
    {
     "name": "stdout",
     "output_type": "stream",
     "text": [
      "video episode_000068.mp4 is generated: training_data/videos/chunk-000/observation.images.second_view/episode_000068.mp4\n",
      "****************************************************************************************************\n",
      "69: collect_data/data/2025_07_17-16_34_49\n",
      "task_idx: 0\n",
      "episode_000069.parquet is generated: training_data/data/chunk-000/episode_000069.parquet\n"
     ]
    },
    {
     "name": "stderr",
     "output_type": "stream",
     "text": [
      "Multiple -pix_fmt options specified for stream 0, only the last option '-pix_fmt yuv420p' will be used.\n"
     ]
    },
    {
     "name": "stdout",
     "output_type": "stream",
     "text": [
      "video episode_000069.mp4 is generated: training_data/videos/chunk-000/observation.images.ego_view/episode_000069.mp4\n"
     ]
    },
    {
     "name": "stderr",
     "output_type": "stream",
     "text": [
      "Multiple -pix_fmt options specified for stream 0, only the last option '-pix_fmt yuv420p' will be used.\n"
     ]
    },
    {
     "name": "stdout",
     "output_type": "stream",
     "text": [
      "video episode_000069.mp4 is generated: training_data/videos/chunk-000/observation.images.second_view/episode_000069.mp4\n",
      "****************************************************************************************************\n",
      "70: collect_data/data/2025_07_17-16_35_24\n",
      "task_idx: 0\n",
      "episode_000070.parquet is generated: training_data/data/chunk-000/episode_000070.parquet\n"
     ]
    },
    {
     "name": "stderr",
     "output_type": "stream",
     "text": [
      "Multiple -pix_fmt options specified for stream 0, only the last option '-pix_fmt yuv420p' will be used.\n"
     ]
    },
    {
     "name": "stdout",
     "output_type": "stream",
     "text": [
      "video episode_000070.mp4 is generated: training_data/videos/chunk-000/observation.images.ego_view/episode_000070.mp4\n"
     ]
    },
    {
     "name": "stderr",
     "output_type": "stream",
     "text": [
      "Multiple -pix_fmt options specified for stream 0, only the last option '-pix_fmt yuv420p' will be used.\n"
     ]
    },
    {
     "name": "stdout",
     "output_type": "stream",
     "text": [
      "video episode_000070.mp4 is generated: training_data/videos/chunk-000/observation.images.second_view/episode_000070.mp4\n",
      "****************************************************************************************************\n",
      "71: collect_data/data/2025_07_17-16_36_02\n",
      "task_idx: 0\n",
      "episode_000071.parquet is generated: training_data/data/chunk-000/episode_000071.parquet\n"
     ]
    },
    {
     "name": "stderr",
     "output_type": "stream",
     "text": [
      "Multiple -pix_fmt options specified for stream 0, only the last option '-pix_fmt yuv420p' will be used.\n"
     ]
    },
    {
     "name": "stdout",
     "output_type": "stream",
     "text": [
      "video episode_000071.mp4 is generated: training_data/videos/chunk-000/observation.images.ego_view/episode_000071.mp4\n"
     ]
    },
    {
     "name": "stderr",
     "output_type": "stream",
     "text": [
      "Multiple -pix_fmt options specified for stream 0, only the last option '-pix_fmt yuv420p' will be used.\n"
     ]
    },
    {
     "name": "stdout",
     "output_type": "stream",
     "text": [
      "video episode_000071.mp4 is generated: training_data/videos/chunk-000/observation.images.second_view/episode_000071.mp4\n",
      "****************************************************************************************************\n",
      "72: collect_data/data/2025_07_17-16_36_36\n",
      "task_idx: 0\n",
      "episode_000072.parquet is generated: training_data/data/chunk-000/episode_000072.parquet\n"
     ]
    },
    {
     "name": "stderr",
     "output_type": "stream",
     "text": [
      "Multiple -pix_fmt options specified for stream 0, only the last option '-pix_fmt yuv420p' will be used.\n"
     ]
    },
    {
     "name": "stdout",
     "output_type": "stream",
     "text": [
      "video episode_000072.mp4 is generated: training_data/videos/chunk-000/observation.images.ego_view/episode_000072.mp4\n"
     ]
    },
    {
     "name": "stderr",
     "output_type": "stream",
     "text": [
      "Multiple -pix_fmt options specified for stream 0, only the last option '-pix_fmt yuv420p' will be used.\n"
     ]
    },
    {
     "name": "stdout",
     "output_type": "stream",
     "text": [
      "video episode_000072.mp4 is generated: training_data/videos/chunk-000/observation.images.second_view/episode_000072.mp4\n",
      "****************************************************************************************************\n",
      "73: collect_data/data/2025_07_17-16_37_18\n",
      "task_idx: 0\n",
      "episode_000073.parquet is generated: training_data/data/chunk-000/episode_000073.parquet\n"
     ]
    },
    {
     "name": "stderr",
     "output_type": "stream",
     "text": [
      "Multiple -pix_fmt options specified for stream 0, only the last option '-pix_fmt yuv420p' will be used.\n"
     ]
    },
    {
     "name": "stdout",
     "output_type": "stream",
     "text": [
      "video episode_000073.mp4 is generated: training_data/videos/chunk-000/observation.images.ego_view/episode_000073.mp4\n"
     ]
    },
    {
     "name": "stderr",
     "output_type": "stream",
     "text": [
      "Multiple -pix_fmt options specified for stream 0, only the last option '-pix_fmt yuv420p' will be used.\n"
     ]
    },
    {
     "name": "stdout",
     "output_type": "stream",
     "text": [
      "video episode_000073.mp4 is generated: training_data/videos/chunk-000/observation.images.second_view/episode_000073.mp4\n",
      "****************************************************************************************************\n",
      "74: collect_data/data/2025_07_17-16_37_56\n",
      "task_idx: 0\n",
      "episode_000074.parquet is generated: training_data/data/chunk-000/episode_000074.parquet\n"
     ]
    },
    {
     "name": "stderr",
     "output_type": "stream",
     "text": [
      "Multiple -pix_fmt options specified for stream 0, only the last option '-pix_fmt yuv420p' will be used.\n"
     ]
    },
    {
     "name": "stdout",
     "output_type": "stream",
     "text": [
      "video episode_000074.mp4 is generated: training_data/videos/chunk-000/observation.images.ego_view/episode_000074.mp4\n"
     ]
    },
    {
     "name": "stderr",
     "output_type": "stream",
     "text": [
      "Multiple -pix_fmt options specified for stream 0, only the last option '-pix_fmt yuv420p' will be used.\n"
     ]
    },
    {
     "name": "stdout",
     "output_type": "stream",
     "text": [
      "video episode_000074.mp4 is generated: training_data/videos/chunk-000/observation.images.second_view/episode_000074.mp4\n",
      "****************************************************************************************************\n",
      "75: collect_data/data/2025_07_17-16_38_34\n",
      "task_idx: 0\n",
      "episode_000075.parquet is generated: training_data/data/chunk-000/episode_000075.parquet\n"
     ]
    },
    {
     "name": "stderr",
     "output_type": "stream",
     "text": [
      "Multiple -pix_fmt options specified for stream 0, only the last option '-pix_fmt yuv420p' will be used.\n"
     ]
    },
    {
     "name": "stdout",
     "output_type": "stream",
     "text": [
      "video episode_000075.mp4 is generated: training_data/videos/chunk-000/observation.images.ego_view/episode_000075.mp4\n"
     ]
    },
    {
     "name": "stderr",
     "output_type": "stream",
     "text": [
      "Multiple -pix_fmt options specified for stream 0, only the last option '-pix_fmt yuv420p' will be used.\n"
     ]
    },
    {
     "name": "stdout",
     "output_type": "stream",
     "text": [
      "video episode_000075.mp4 is generated: training_data/videos/chunk-000/observation.images.second_view/episode_000075.mp4\n",
      "****************************************************************************************************\n",
      "76: collect_data/data/2025_07_17-16_39_08\n",
      "task_idx: 0\n",
      "episode_000076.parquet is generated: training_data/data/chunk-000/episode_000076.parquet\n"
     ]
    },
    {
     "name": "stderr",
     "output_type": "stream",
     "text": [
      "Multiple -pix_fmt options specified for stream 0, only the last option '-pix_fmt yuv420p' will be used.\n"
     ]
    },
    {
     "name": "stdout",
     "output_type": "stream",
     "text": [
      "video episode_000076.mp4 is generated: training_data/videos/chunk-000/observation.images.ego_view/episode_000076.mp4\n"
     ]
    },
    {
     "name": "stderr",
     "output_type": "stream",
     "text": [
      "Multiple -pix_fmt options specified for stream 0, only the last option '-pix_fmt yuv420p' will be used.\n"
     ]
    },
    {
     "name": "stdout",
     "output_type": "stream",
     "text": [
      "video episode_000076.mp4 is generated: training_data/videos/chunk-000/observation.images.second_view/episode_000076.mp4\n",
      "****************************************************************************************************\n",
      "77: collect_data/data/2025_07_17-16_39_47\n",
      "task_idx: 0\n",
      "episode_000077.parquet is generated: training_data/data/chunk-000/episode_000077.parquet\n"
     ]
    },
    {
     "name": "stderr",
     "output_type": "stream",
     "text": [
      "Multiple -pix_fmt options specified for stream 0, only the last option '-pix_fmt yuv420p' will be used.\n"
     ]
    },
    {
     "name": "stdout",
     "output_type": "stream",
     "text": [
      "video episode_000077.mp4 is generated: training_data/videos/chunk-000/observation.images.ego_view/episode_000077.mp4\n"
     ]
    },
    {
     "name": "stderr",
     "output_type": "stream",
     "text": [
      "Multiple -pix_fmt options specified for stream 0, only the last option '-pix_fmt yuv420p' will be used.\n"
     ]
    },
    {
     "name": "stdout",
     "output_type": "stream",
     "text": [
      "video episode_000077.mp4 is generated: training_data/videos/chunk-000/observation.images.second_view/episode_000077.mp4\n",
      "****************************************************************************************************\n",
      "78: collect_data/data/2025_07_17-16_40_22\n",
      "task_idx: 0\n",
      "episode_000078.parquet is generated: training_data/data/chunk-000/episode_000078.parquet\n"
     ]
    },
    {
     "name": "stderr",
     "output_type": "stream",
     "text": [
      "Multiple -pix_fmt options specified for stream 0, only the last option '-pix_fmt yuv420p' will be used.\n"
     ]
    },
    {
     "name": "stdout",
     "output_type": "stream",
     "text": [
      "video episode_000078.mp4 is generated: training_data/videos/chunk-000/observation.images.ego_view/episode_000078.mp4\n"
     ]
    },
    {
     "name": "stderr",
     "output_type": "stream",
     "text": [
      "Multiple -pix_fmt options specified for stream 0, only the last option '-pix_fmt yuv420p' will be used.\n"
     ]
    },
    {
     "name": "stdout",
     "output_type": "stream",
     "text": [
      "video episode_000078.mp4 is generated: training_data/videos/chunk-000/observation.images.second_view/episode_000078.mp4\n",
      "****************************************************************************************************\n",
      "79: collect_data/data/2025_07_17-16_40_59\n",
      "task_idx: 0\n",
      "episode_000079.parquet is generated: training_data/data/chunk-000/episode_000079.parquet\n"
     ]
    },
    {
     "name": "stderr",
     "output_type": "stream",
     "text": [
      "Multiple -pix_fmt options specified for stream 0, only the last option '-pix_fmt yuv420p' will be used.\n"
     ]
    },
    {
     "name": "stdout",
     "output_type": "stream",
     "text": [
      "video episode_000079.mp4 is generated: training_data/videos/chunk-000/observation.images.ego_view/episode_000079.mp4\n"
     ]
    },
    {
     "name": "stderr",
     "output_type": "stream",
     "text": [
      "Multiple -pix_fmt options specified for stream 0, only the last option '-pix_fmt yuv420p' will be used.\n"
     ]
    },
    {
     "name": "stdout",
     "output_type": "stream",
     "text": [
      "video episode_000079.mp4 is generated: training_data/videos/chunk-000/observation.images.second_view/episode_000079.mp4\n",
      "****************************************************************************************************\n",
      "80: collect_data/data/2025_07_17-16_41_35\n",
      "task_idx: 0\n",
      "episode_000080.parquet is generated: training_data/data/chunk-000/episode_000080.parquet\n"
     ]
    },
    {
     "name": "stderr",
     "output_type": "stream",
     "text": [
      "Multiple -pix_fmt options specified for stream 0, only the last option '-pix_fmt yuv420p' will be used.\n"
     ]
    },
    {
     "name": "stdout",
     "output_type": "stream",
     "text": [
      "video episode_000080.mp4 is generated: training_data/videos/chunk-000/observation.images.ego_view/episode_000080.mp4\n"
     ]
    },
    {
     "name": "stderr",
     "output_type": "stream",
     "text": [
      "Multiple -pix_fmt options specified for stream 0, only the last option '-pix_fmt yuv420p' will be used.\n"
     ]
    },
    {
     "name": "stdout",
     "output_type": "stream",
     "text": [
      "video episode_000080.mp4 is generated: training_data/videos/chunk-000/observation.images.second_view/episode_000080.mp4\n",
      "****************************************************************************************************\n",
      "81: collect_data/data/2025_07_17-16_42_09\n",
      "task_idx: 0\n",
      "episode_000081.parquet is generated: training_data/data/chunk-000/episode_000081.parquet\n"
     ]
    },
    {
     "name": "stderr",
     "output_type": "stream",
     "text": [
      "Multiple -pix_fmt options specified for stream 0, only the last option '-pix_fmt yuv420p' will be used.\n"
     ]
    },
    {
     "name": "stdout",
     "output_type": "stream",
     "text": [
      "video episode_000081.mp4 is generated: training_data/videos/chunk-000/observation.images.ego_view/episode_000081.mp4\n"
     ]
    },
    {
     "name": "stderr",
     "output_type": "stream",
     "text": [
      "Multiple -pix_fmt options specified for stream 0, only the last option '-pix_fmt yuv420p' will be used.\n"
     ]
    },
    {
     "name": "stdout",
     "output_type": "stream",
     "text": [
      "video episode_000081.mp4 is generated: training_data/videos/chunk-000/observation.images.second_view/episode_000081.mp4\n",
      "****************************************************************************************************\n",
      "82: collect_data/data/2025_07_17-16_42_45\n",
      "task_idx: 0\n",
      "episode_000082.parquet is generated: training_data/data/chunk-000/episode_000082.parquet\n"
     ]
    },
    {
     "name": "stderr",
     "output_type": "stream",
     "text": [
      "Multiple -pix_fmt options specified for stream 0, only the last option '-pix_fmt yuv420p' will be used.\n"
     ]
    },
    {
     "name": "stdout",
     "output_type": "stream",
     "text": [
      "video episode_000082.mp4 is generated: training_data/videos/chunk-000/observation.images.ego_view/episode_000082.mp4\n"
     ]
    },
    {
     "name": "stderr",
     "output_type": "stream",
     "text": [
      "Multiple -pix_fmt options specified for stream 0, only the last option '-pix_fmt yuv420p' will be used.\n"
     ]
    },
    {
     "name": "stdout",
     "output_type": "stream",
     "text": [
      "video episode_000082.mp4 is generated: training_data/videos/chunk-000/observation.images.second_view/episode_000082.mp4\n",
      "****************************************************************************************************\n",
      "83: collect_data/data/2025_07_17-16_43_20\n",
      "task_idx: 0\n",
      "episode_000083.parquet is generated: training_data/data/chunk-000/episode_000083.parquet\n"
     ]
    },
    {
     "name": "stderr",
     "output_type": "stream",
     "text": [
      "Multiple -pix_fmt options specified for stream 0, only the last option '-pix_fmt yuv420p' will be used.\n"
     ]
    },
    {
     "name": "stdout",
     "output_type": "stream",
     "text": [
      "video episode_000083.mp4 is generated: training_data/videos/chunk-000/observation.images.ego_view/episode_000083.mp4\n"
     ]
    },
    {
     "name": "stderr",
     "output_type": "stream",
     "text": [
      "Multiple -pix_fmt options specified for stream 0, only the last option '-pix_fmt yuv420p' will be used.\n"
     ]
    },
    {
     "name": "stdout",
     "output_type": "stream",
     "text": [
      "video episode_000083.mp4 is generated: training_data/videos/chunk-000/observation.images.second_view/episode_000083.mp4\n",
      "****************************************************************************************************\n",
      "84: collect_data/data/2025_07_17-16_43_52\n",
      "task_idx: 0\n",
      "episode_000084.parquet is generated: training_data/data/chunk-000/episode_000084.parquet\n"
     ]
    },
    {
     "name": "stderr",
     "output_type": "stream",
     "text": [
      "Multiple -pix_fmt options specified for stream 0, only the last option '-pix_fmt yuv420p' will be used.\n"
     ]
    },
    {
     "name": "stdout",
     "output_type": "stream",
     "text": [
      "video episode_000084.mp4 is generated: training_data/videos/chunk-000/observation.images.ego_view/episode_000084.mp4\n"
     ]
    },
    {
     "name": "stderr",
     "output_type": "stream",
     "text": [
      "Multiple -pix_fmt options specified for stream 0, only the last option '-pix_fmt yuv420p' will be used.\n"
     ]
    },
    {
     "name": "stdout",
     "output_type": "stream",
     "text": [
      "video episode_000084.mp4 is generated: training_data/videos/chunk-000/observation.images.second_view/episode_000084.mp4\n",
      "****************************************************************************************************\n",
      "85: collect_data/data/2025_07_17-16_45_37\n",
      "task_idx: 0\n",
      "episode_000085.parquet is generated: training_data/data/chunk-000/episode_000085.parquet\n"
     ]
    },
    {
     "name": "stderr",
     "output_type": "stream",
     "text": [
      "Multiple -pix_fmt options specified for stream 0, only the last option '-pix_fmt yuv420p' will be used.\n"
     ]
    },
    {
     "name": "stdout",
     "output_type": "stream",
     "text": [
      "video episode_000085.mp4 is generated: training_data/videos/chunk-000/observation.images.ego_view/episode_000085.mp4\n"
     ]
    },
    {
     "name": "stderr",
     "output_type": "stream",
     "text": [
      "Multiple -pix_fmt options specified for stream 0, only the last option '-pix_fmt yuv420p' will be used.\n"
     ]
    },
    {
     "name": "stdout",
     "output_type": "stream",
     "text": [
      "video episode_000085.mp4 is generated: training_data/videos/chunk-000/observation.images.second_view/episode_000085.mp4\n",
      "****************************************************************************************************\n",
      "86: collect_data/data/2025_07_17-16_46_01\n",
      "task_idx: 0\n",
      "episode_000086.parquet is generated: training_data/data/chunk-000/episode_000086.parquet\n"
     ]
    },
    {
     "name": "stderr",
     "output_type": "stream",
     "text": [
      "Multiple -pix_fmt options specified for stream 0, only the last option '-pix_fmt yuv420p' will be used.\n"
     ]
    },
    {
     "name": "stdout",
     "output_type": "stream",
     "text": [
      "video episode_000086.mp4 is generated: training_data/videos/chunk-000/observation.images.ego_view/episode_000086.mp4\n"
     ]
    },
    {
     "name": "stderr",
     "output_type": "stream",
     "text": [
      "Multiple -pix_fmt options specified for stream 0, only the last option '-pix_fmt yuv420p' will be used.\n"
     ]
    },
    {
     "name": "stdout",
     "output_type": "stream",
     "text": [
      "video episode_000086.mp4 is generated: training_data/videos/chunk-000/observation.images.second_view/episode_000086.mp4\n",
      "****************************************************************************************************\n",
      "87: collect_data/data/2025_07_17-16_46_33\n",
      "task_idx: 0\n",
      "episode_000087.parquet is generated: training_data/data/chunk-000/episode_000087.parquet\n"
     ]
    },
    {
     "name": "stderr",
     "output_type": "stream",
     "text": [
      "Multiple -pix_fmt options specified for stream 0, only the last option '-pix_fmt yuv420p' will be used.\n"
     ]
    },
    {
     "name": "stdout",
     "output_type": "stream",
     "text": [
      "video episode_000087.mp4 is generated: training_data/videos/chunk-000/observation.images.ego_view/episode_000087.mp4\n"
     ]
    },
    {
     "name": "stderr",
     "output_type": "stream",
     "text": [
      "Multiple -pix_fmt options specified for stream 0, only the last option '-pix_fmt yuv420p' will be used.\n"
     ]
    },
    {
     "name": "stdout",
     "output_type": "stream",
     "text": [
      "video episode_000087.mp4 is generated: training_data/videos/chunk-000/observation.images.second_view/episode_000087.mp4\n",
      "****************************************************************************************************\n",
      "88: collect_data/data/2025_07_17-16_47_04\n",
      "task_idx: 0\n",
      "episode_000088.parquet is generated: training_data/data/chunk-000/episode_000088.parquet\n"
     ]
    },
    {
     "name": "stderr",
     "output_type": "stream",
     "text": [
      "Multiple -pix_fmt options specified for stream 0, only the last option '-pix_fmt yuv420p' will be used.\n"
     ]
    },
    {
     "name": "stdout",
     "output_type": "stream",
     "text": [
      "video episode_000088.mp4 is generated: training_data/videos/chunk-000/observation.images.ego_view/episode_000088.mp4\n"
     ]
    },
    {
     "name": "stderr",
     "output_type": "stream",
     "text": [
      "Multiple -pix_fmt options specified for stream 0, only the last option '-pix_fmt yuv420p' will be used.\n"
     ]
    },
    {
     "name": "stdout",
     "output_type": "stream",
     "text": [
      "video episode_000088.mp4 is generated: training_data/videos/chunk-000/observation.images.second_view/episode_000088.mp4\n",
      "****************************************************************************************************\n",
      "89: collect_data/data/2025_07_17-16_47_38\n",
      "task_idx: 0\n",
      "episode_000089.parquet is generated: training_data/data/chunk-000/episode_000089.parquet\n"
     ]
    },
    {
     "name": "stderr",
     "output_type": "stream",
     "text": [
      "Multiple -pix_fmt options specified for stream 0, only the last option '-pix_fmt yuv420p' will be used.\n"
     ]
    },
    {
     "name": "stdout",
     "output_type": "stream",
     "text": [
      "video episode_000089.mp4 is generated: training_data/videos/chunk-000/observation.images.ego_view/episode_000089.mp4\n"
     ]
    },
    {
     "name": "stderr",
     "output_type": "stream",
     "text": [
      "Multiple -pix_fmt options specified for stream 0, only the last option '-pix_fmt yuv420p' will be used.\n"
     ]
    },
    {
     "name": "stdout",
     "output_type": "stream",
     "text": [
      "video episode_000089.mp4 is generated: training_data/videos/chunk-000/observation.images.second_view/episode_000089.mp4\n",
      "****************************************************************************************************\n",
      "90: collect_data/data/2025_07_17-16_48_10\n",
      "task_idx: 0\n",
      "episode_000090.parquet is generated: training_data/data/chunk-000/episode_000090.parquet\n"
     ]
    },
    {
     "name": "stderr",
     "output_type": "stream",
     "text": [
      "Multiple -pix_fmt options specified for stream 0, only the last option '-pix_fmt yuv420p' will be used.\n"
     ]
    },
    {
     "name": "stdout",
     "output_type": "stream",
     "text": [
      "video episode_000090.mp4 is generated: training_data/videos/chunk-000/observation.images.ego_view/episode_000090.mp4\n"
     ]
    },
    {
     "name": "stderr",
     "output_type": "stream",
     "text": [
      "Multiple -pix_fmt options specified for stream 0, only the last option '-pix_fmt yuv420p' will be used.\n"
     ]
    },
    {
     "name": "stdout",
     "output_type": "stream",
     "text": [
      "video episode_000090.mp4 is generated: training_data/videos/chunk-000/observation.images.second_view/episode_000090.mp4\n",
      "****************************************************************************************************\n",
      "91: collect_data/data/2025_07_17-16_48_48\n",
      "task_idx: 0\n",
      "episode_000091.parquet is generated: training_data/data/chunk-000/episode_000091.parquet\n"
     ]
    },
    {
     "name": "stderr",
     "output_type": "stream",
     "text": [
      "Multiple -pix_fmt options specified for stream 0, only the last option '-pix_fmt yuv420p' will be used.\n"
     ]
    },
    {
     "name": "stdout",
     "output_type": "stream",
     "text": [
      "video episode_000091.mp4 is generated: training_data/videos/chunk-000/observation.images.ego_view/episode_000091.mp4\n"
     ]
    },
    {
     "name": "stderr",
     "output_type": "stream",
     "text": [
      "Multiple -pix_fmt options specified for stream 0, only the last option '-pix_fmt yuv420p' will be used.\n"
     ]
    },
    {
     "name": "stdout",
     "output_type": "stream",
     "text": [
      "video episode_000091.mp4 is generated: training_data/videos/chunk-000/observation.images.second_view/episode_000091.mp4\n",
      "****************************************************************************************************\n",
      "92: collect_data/data/2025_07_17-16_49_25\n",
      "task_idx: 0\n",
      "episode_000092.parquet is generated: training_data/data/chunk-000/episode_000092.parquet\n"
     ]
    },
    {
     "name": "stderr",
     "output_type": "stream",
     "text": [
      "Multiple -pix_fmt options specified for stream 0, only the last option '-pix_fmt yuv420p' will be used.\n"
     ]
    },
    {
     "name": "stdout",
     "output_type": "stream",
     "text": [
      "video episode_000092.mp4 is generated: training_data/videos/chunk-000/observation.images.ego_view/episode_000092.mp4\n"
     ]
    },
    {
     "name": "stderr",
     "output_type": "stream",
     "text": [
      "Multiple -pix_fmt options specified for stream 0, only the last option '-pix_fmt yuv420p' will be used.\n"
     ]
    },
    {
     "name": "stdout",
     "output_type": "stream",
     "text": [
      "video episode_000092.mp4 is generated: training_data/videos/chunk-000/observation.images.second_view/episode_000092.mp4\n",
      "****************************************************************************************************\n",
      "93: collect_data/data/2025_07_17-16_49_56\n",
      "task_idx: 0\n",
      "episode_000093.parquet is generated: training_data/data/chunk-000/episode_000093.parquet\n"
     ]
    },
    {
     "name": "stderr",
     "output_type": "stream",
     "text": [
      "Multiple -pix_fmt options specified for stream 0, only the last option '-pix_fmt yuv420p' will be used.\n"
     ]
    },
    {
     "name": "stdout",
     "output_type": "stream",
     "text": [
      "video episode_000093.mp4 is generated: training_data/videos/chunk-000/observation.images.ego_view/episode_000093.mp4\n"
     ]
    },
    {
     "name": "stderr",
     "output_type": "stream",
     "text": [
      "Multiple -pix_fmt options specified for stream 0, only the last option '-pix_fmt yuv420p' will be used.\n"
     ]
    },
    {
     "name": "stdout",
     "output_type": "stream",
     "text": [
      "video episode_000093.mp4 is generated: training_data/videos/chunk-000/observation.images.second_view/episode_000093.mp4\n",
      "****************************************************************************************************\n",
      "94: collect_data/data/2025_07_17-16_50_30\n",
      "task_idx: 0\n",
      "episode_000094.parquet is generated: training_data/data/chunk-000/episode_000094.parquet\n"
     ]
    },
    {
     "name": "stderr",
     "output_type": "stream",
     "text": [
      "Multiple -pix_fmt options specified for stream 0, only the last option '-pix_fmt yuv420p' will be used.\n"
     ]
    },
    {
     "name": "stdout",
     "output_type": "stream",
     "text": [
      "video episode_000094.mp4 is generated: training_data/videos/chunk-000/observation.images.ego_view/episode_000094.mp4\n"
     ]
    },
    {
     "name": "stderr",
     "output_type": "stream",
     "text": [
      "Multiple -pix_fmt options specified for stream 0, only the last option '-pix_fmt yuv420p' will be used.\n"
     ]
    },
    {
     "name": "stdout",
     "output_type": "stream",
     "text": [
      "video episode_000094.mp4 is generated: training_data/videos/chunk-000/observation.images.second_view/episode_000094.mp4\n",
      "****************************************************************************************************\n",
      "95: collect_data/data/2025_07_17-16_51_26\n",
      "task_idx: 0\n",
      "episode_000095.parquet is generated: training_data/data/chunk-000/episode_000095.parquet\n"
     ]
    },
    {
     "name": "stderr",
     "output_type": "stream",
     "text": [
      "Multiple -pix_fmt options specified for stream 0, only the last option '-pix_fmt yuv420p' will be used.\n"
     ]
    },
    {
     "name": "stdout",
     "output_type": "stream",
     "text": [
      "video episode_000095.mp4 is generated: training_data/videos/chunk-000/observation.images.ego_view/episode_000095.mp4\n"
     ]
    },
    {
     "name": "stderr",
     "output_type": "stream",
     "text": [
      "Multiple -pix_fmt options specified for stream 0, only the last option '-pix_fmt yuv420p' will be used.\n"
     ]
    },
    {
     "name": "stdout",
     "output_type": "stream",
     "text": [
      "video episode_000095.mp4 is generated: training_data/videos/chunk-000/observation.images.second_view/episode_000095.mp4\n",
      "****************************************************************************************************\n",
      "96: collect_data/data/2025_07_17-16_52_16\n",
      "task_idx: 0\n",
      "episode_000096.parquet is generated: training_data/data/chunk-000/episode_000096.parquet\n"
     ]
    },
    {
     "name": "stderr",
     "output_type": "stream",
     "text": [
      "Multiple -pix_fmt options specified for stream 0, only the last option '-pix_fmt yuv420p' will be used.\n"
     ]
    },
    {
     "name": "stdout",
     "output_type": "stream",
     "text": [
      "video episode_000096.mp4 is generated: training_data/videos/chunk-000/observation.images.ego_view/episode_000096.mp4\n"
     ]
    },
    {
     "name": "stderr",
     "output_type": "stream",
     "text": [
      "Multiple -pix_fmt options specified for stream 0, only the last option '-pix_fmt yuv420p' will be used.\n"
     ]
    },
    {
     "name": "stdout",
     "output_type": "stream",
     "text": [
      "video episode_000096.mp4 is generated: training_data/videos/chunk-000/observation.images.second_view/episode_000096.mp4\n",
      "****************************************************************************************************\n",
      "97: collect_data/data/2025_07_17-16_52_49\n",
      "task_idx: 0\n",
      "episode_000097.parquet is generated: training_data/data/chunk-000/episode_000097.parquet\n"
     ]
    },
    {
     "name": "stderr",
     "output_type": "stream",
     "text": [
      "Multiple -pix_fmt options specified for stream 0, only the last option '-pix_fmt yuv420p' will be used.\n"
     ]
    },
    {
     "name": "stdout",
     "output_type": "stream",
     "text": [
      "video episode_000097.mp4 is generated: training_data/videos/chunk-000/observation.images.ego_view/episode_000097.mp4\n"
     ]
    },
    {
     "name": "stderr",
     "output_type": "stream",
     "text": [
      "Multiple -pix_fmt options specified for stream 0, only the last option '-pix_fmt yuv420p' will be used.\n"
     ]
    },
    {
     "name": "stdout",
     "output_type": "stream",
     "text": [
      "video episode_000097.mp4 is generated: training_data/videos/chunk-000/observation.images.second_view/episode_000097.mp4\n",
      "****************************************************************************************************\n",
      "98: collect_data/data/2025_07_17-16_53_19\n",
      "task_idx: 0\n",
      "episode_000098.parquet is generated: training_data/data/chunk-000/episode_000098.parquet\n"
     ]
    },
    {
     "name": "stderr",
     "output_type": "stream",
     "text": [
      "Multiple -pix_fmt options specified for stream 0, only the last option '-pix_fmt yuv420p' will be used.\n"
     ]
    },
    {
     "name": "stdout",
     "output_type": "stream",
     "text": [
      "video episode_000098.mp4 is generated: training_data/videos/chunk-000/observation.images.ego_view/episode_000098.mp4\n"
     ]
    },
    {
     "name": "stderr",
     "output_type": "stream",
     "text": [
      "Multiple -pix_fmt options specified for stream 0, only the last option '-pix_fmt yuv420p' will be used.\n"
     ]
    },
    {
     "name": "stdout",
     "output_type": "stream",
     "text": [
      "video episode_000098.mp4 is generated: training_data/videos/chunk-000/observation.images.second_view/episode_000098.mp4\n",
      "****************************************************************************************************\n",
      "99: collect_data/data/2025_07_17-16_53_52\n",
      "task_idx: 0\n",
      "episode_000099.parquet is generated: training_data/data/chunk-000/episode_000099.parquet\n"
     ]
    },
    {
     "name": "stderr",
     "output_type": "stream",
     "text": [
      "Multiple -pix_fmt options specified for stream 0, only the last option '-pix_fmt yuv420p' will be used.\n"
     ]
    },
    {
     "name": "stdout",
     "output_type": "stream",
     "text": [
      "video episode_000099.mp4 is generated: training_data/videos/chunk-000/observation.images.ego_view/episode_000099.mp4\n"
     ]
    },
    {
     "name": "stderr",
     "output_type": "stream",
     "text": [
      "Multiple -pix_fmt options specified for stream 0, only the last option '-pix_fmt yuv420p' will be used.\n"
     ]
    },
    {
     "name": "stdout",
     "output_type": "stream",
     "text": [
      "video episode_000099.mp4 is generated: training_data/videos/chunk-000/observation.images.second_view/episode_000099.mp4\n",
      "****************************************************************************************************\n",
      "100: collect_data/data/2025_07_17-16_54_26\n",
      "task_idx: 0\n",
      "episode_000100.parquet is generated: training_data/data/chunk-000/episode_000100.parquet\n"
     ]
    },
    {
     "name": "stderr",
     "output_type": "stream",
     "text": [
      "Multiple -pix_fmt options specified for stream 0, only the last option '-pix_fmt yuv420p' will be used.\n"
     ]
    },
    {
     "name": "stdout",
     "output_type": "stream",
     "text": [
      "video episode_000100.mp4 is generated: training_data/videos/chunk-000/observation.images.ego_view/episode_000100.mp4\n"
     ]
    },
    {
     "name": "stderr",
     "output_type": "stream",
     "text": [
      "Multiple -pix_fmt options specified for stream 0, only the last option '-pix_fmt yuv420p' will be used.\n"
     ]
    },
    {
     "name": "stdout",
     "output_type": "stream",
     "text": [
      "video episode_000100.mp4 is generated: training_data/videos/chunk-000/observation.images.second_view/episode_000100.mp4\n",
      "****************************************************************************************************\n",
      "101: collect_data/data/2025_07_17-16_54_56\n",
      "task_idx: 0\n",
      "episode_000101.parquet is generated: training_data/data/chunk-000/episode_000101.parquet\n"
     ]
    },
    {
     "name": "stderr",
     "output_type": "stream",
     "text": [
      "Multiple -pix_fmt options specified for stream 0, only the last option '-pix_fmt yuv420p' will be used.\n"
     ]
    },
    {
     "name": "stdout",
     "output_type": "stream",
     "text": [
      "video episode_000101.mp4 is generated: training_data/videos/chunk-000/observation.images.ego_view/episode_000101.mp4\n"
     ]
    },
    {
     "name": "stderr",
     "output_type": "stream",
     "text": [
      "Multiple -pix_fmt options specified for stream 0, only the last option '-pix_fmt yuv420p' will be used.\n"
     ]
    },
    {
     "name": "stdout",
     "output_type": "stream",
     "text": [
      "video episode_000101.mp4 is generated: training_data/videos/chunk-000/observation.images.second_view/episode_000101.mp4\n",
      "****************************************************************************************************\n",
      "102: collect_data/data/2025_07_17-16_55_26\n",
      "task_idx: 0\n",
      "episode_000102.parquet is generated: training_data/data/chunk-000/episode_000102.parquet\n"
     ]
    },
    {
     "name": "stderr",
     "output_type": "stream",
     "text": [
      "Multiple -pix_fmt options specified for stream 0, only the last option '-pix_fmt yuv420p' will be used.\n"
     ]
    },
    {
     "name": "stdout",
     "output_type": "stream",
     "text": [
      "video episode_000102.mp4 is generated: training_data/videos/chunk-000/observation.images.ego_view/episode_000102.mp4\n"
     ]
    },
    {
     "name": "stderr",
     "output_type": "stream",
     "text": [
      "Multiple -pix_fmt options specified for stream 0, only the last option '-pix_fmt yuv420p' will be used.\n"
     ]
    },
    {
     "name": "stdout",
     "output_type": "stream",
     "text": [
      "video episode_000102.mp4 is generated: training_data/videos/chunk-000/observation.images.second_view/episode_000102.mp4\n",
      "****************************************************************************************************\n",
      "103: collect_data/data/2025_07_17-16_55_59\n",
      "task_idx: 0\n",
      "episode_000103.parquet is generated: training_data/data/chunk-000/episode_000103.parquet\n"
     ]
    },
    {
     "name": "stderr",
     "output_type": "stream",
     "text": [
      "Multiple -pix_fmt options specified for stream 0, only the last option '-pix_fmt yuv420p' will be used.\n"
     ]
    },
    {
     "name": "stdout",
     "output_type": "stream",
     "text": [
      "video episode_000103.mp4 is generated: training_data/videos/chunk-000/observation.images.ego_view/episode_000103.mp4\n"
     ]
    },
    {
     "name": "stderr",
     "output_type": "stream",
     "text": [
      "Multiple -pix_fmt options specified for stream 0, only the last option '-pix_fmt yuv420p' will be used.\n"
     ]
    },
    {
     "name": "stdout",
     "output_type": "stream",
     "text": [
      "video episode_000103.mp4 is generated: training_data/videos/chunk-000/observation.images.second_view/episode_000103.mp4\n",
      "****************************************************************************************************\n",
      "104: collect_data/data/2025_07_17-16_56_26\n",
      "task_idx: 0\n",
      "episode_000104.parquet is generated: training_data/data/chunk-000/episode_000104.parquet\n"
     ]
    },
    {
     "name": "stderr",
     "output_type": "stream",
     "text": [
      "Multiple -pix_fmt options specified for stream 0, only the last option '-pix_fmt yuv420p' will be used.\n"
     ]
    },
    {
     "name": "stdout",
     "output_type": "stream",
     "text": [
      "video episode_000104.mp4 is generated: training_data/videos/chunk-000/observation.images.ego_view/episode_000104.mp4\n"
     ]
    },
    {
     "name": "stderr",
     "output_type": "stream",
     "text": [
      "Multiple -pix_fmt options specified for stream 0, only the last option '-pix_fmt yuv420p' will be used.\n"
     ]
    },
    {
     "name": "stdout",
     "output_type": "stream",
     "text": [
      "video episode_000104.mp4 is generated: training_data/videos/chunk-000/observation.images.second_view/episode_000104.mp4\n",
      "****************************************************************************************************\n",
      "105: collect_data/data/2025_07_17-16_56_55\n",
      "task_idx: 0\n",
      "episode_000105.parquet is generated: training_data/data/chunk-000/episode_000105.parquet\n"
     ]
    },
    {
     "name": "stderr",
     "output_type": "stream",
     "text": [
      "Multiple -pix_fmt options specified for stream 0, only the last option '-pix_fmt yuv420p' will be used.\n"
     ]
    },
    {
     "name": "stdout",
     "output_type": "stream",
     "text": [
      "video episode_000105.mp4 is generated: training_data/videos/chunk-000/observation.images.ego_view/episode_000105.mp4\n"
     ]
    },
    {
     "name": "stderr",
     "output_type": "stream",
     "text": [
      "Multiple -pix_fmt options specified for stream 0, only the last option '-pix_fmt yuv420p' will be used.\n"
     ]
    },
    {
     "name": "stdout",
     "output_type": "stream",
     "text": [
      "video episode_000105.mp4 is generated: training_data/videos/chunk-000/observation.images.second_view/episode_000105.mp4\n",
      "****************************************************************************************************\n",
      "106: collect_data/data/2025_07_17-16_57_25\n",
      "task_idx: 0\n",
      "episode_000106.parquet is generated: training_data/data/chunk-000/episode_000106.parquet\n"
     ]
    },
    {
     "name": "stderr",
     "output_type": "stream",
     "text": [
      "Multiple -pix_fmt options specified for stream 0, only the last option '-pix_fmt yuv420p' will be used.\n"
     ]
    },
    {
     "name": "stdout",
     "output_type": "stream",
     "text": [
      "video episode_000106.mp4 is generated: training_data/videos/chunk-000/observation.images.ego_view/episode_000106.mp4\n"
     ]
    },
    {
     "name": "stderr",
     "output_type": "stream",
     "text": [
      "Multiple -pix_fmt options specified for stream 0, only the last option '-pix_fmt yuv420p' will be used.\n"
     ]
    },
    {
     "name": "stdout",
     "output_type": "stream",
     "text": [
      "video episode_000106.mp4 is generated: training_data/videos/chunk-000/observation.images.second_view/episode_000106.mp4\n",
      "****************************************************************************************************\n",
      "107: collect_data/data/2025_07_17-16_57_56\n",
      "task_idx: 0\n",
      "episode_000107.parquet is generated: training_data/data/chunk-000/episode_000107.parquet\n"
     ]
    },
    {
     "name": "stderr",
     "output_type": "stream",
     "text": [
      "Multiple -pix_fmt options specified for stream 0, only the last option '-pix_fmt yuv420p' will be used.\n"
     ]
    },
    {
     "name": "stdout",
     "output_type": "stream",
     "text": [
      "video episode_000107.mp4 is generated: training_data/videos/chunk-000/observation.images.ego_view/episode_000107.mp4\n"
     ]
    },
    {
     "name": "stderr",
     "output_type": "stream",
     "text": [
      "Multiple -pix_fmt options specified for stream 0, only the last option '-pix_fmt yuv420p' will be used.\n"
     ]
    },
    {
     "name": "stdout",
     "output_type": "stream",
     "text": [
      "video episode_000107.mp4 is generated: training_data/videos/chunk-000/observation.images.second_view/episode_000107.mp4\n",
      "****************************************************************************************************\n",
      "108: collect_data/data/2025_07_17-16_58_29\n",
      "task_idx: 0\n",
      "episode_000108.parquet is generated: training_data/data/chunk-000/episode_000108.parquet\n"
     ]
    },
    {
     "name": "stderr",
     "output_type": "stream",
     "text": [
      "Multiple -pix_fmt options specified for stream 0, only the last option '-pix_fmt yuv420p' will be used.\n"
     ]
    },
    {
     "name": "stdout",
     "output_type": "stream",
     "text": [
      "video episode_000108.mp4 is generated: training_data/videos/chunk-000/observation.images.ego_view/episode_000108.mp4\n"
     ]
    },
    {
     "name": "stderr",
     "output_type": "stream",
     "text": [
      "Multiple -pix_fmt options specified for stream 0, only the last option '-pix_fmt yuv420p' will be used.\n"
     ]
    },
    {
     "name": "stdout",
     "output_type": "stream",
     "text": [
      "video episode_000108.mp4 is generated: training_data/videos/chunk-000/observation.images.second_view/episode_000108.mp4\n",
      "****************************************************************************************************\n",
      "109: collect_data/data/2025_07_17-16_58_56\n",
      "task_idx: 0\n",
      "episode_000109.parquet is generated: training_data/data/chunk-000/episode_000109.parquet\n"
     ]
    },
    {
     "name": "stderr",
     "output_type": "stream",
     "text": [
      "Multiple -pix_fmt options specified for stream 0, only the last option '-pix_fmt yuv420p' will be used.\n"
     ]
    },
    {
     "name": "stdout",
     "output_type": "stream",
     "text": [
      "video episode_000109.mp4 is generated: training_data/videos/chunk-000/observation.images.ego_view/episode_000109.mp4\n"
     ]
    },
    {
     "name": "stderr",
     "output_type": "stream",
     "text": [
      "Multiple -pix_fmt options specified for stream 0, only the last option '-pix_fmt yuv420p' will be used.\n"
     ]
    },
    {
     "name": "stdout",
     "output_type": "stream",
     "text": [
      "video episode_000109.mp4 is generated: training_data/videos/chunk-000/observation.images.second_view/episode_000109.mp4\n",
      "****************************************************************************************************\n",
      "110: collect_data/data/2025_07_17-16_59_29\n",
      "task_idx: 0\n",
      "episode_000110.parquet is generated: training_data/data/chunk-000/episode_000110.parquet\n"
     ]
    },
    {
     "name": "stderr",
     "output_type": "stream",
     "text": [
      "Multiple -pix_fmt options specified for stream 0, only the last option '-pix_fmt yuv420p' will be used.\n"
     ]
    },
    {
     "name": "stdout",
     "output_type": "stream",
     "text": [
      "video episode_000110.mp4 is generated: training_data/videos/chunk-000/observation.images.ego_view/episode_000110.mp4\n"
     ]
    },
    {
     "name": "stderr",
     "output_type": "stream",
     "text": [
      "Multiple -pix_fmt options specified for stream 0, only the last option '-pix_fmt yuv420p' will be used.\n"
     ]
    },
    {
     "name": "stdout",
     "output_type": "stream",
     "text": [
      "video episode_000110.mp4 is generated: training_data/videos/chunk-000/observation.images.second_view/episode_000110.mp4\n",
      "****************************************************************************************************\n",
      "111: collect_data/data/2025_07_17-16_59_59\n",
      "task_idx: 0\n",
      "episode_000111.parquet is generated: training_data/data/chunk-000/episode_000111.parquet\n"
     ]
    },
    {
     "name": "stderr",
     "output_type": "stream",
     "text": [
      "Multiple -pix_fmt options specified for stream 0, only the last option '-pix_fmt yuv420p' will be used.\n"
     ]
    },
    {
     "name": "stdout",
     "output_type": "stream",
     "text": [
      "video episode_000111.mp4 is generated: training_data/videos/chunk-000/observation.images.ego_view/episode_000111.mp4\n"
     ]
    },
    {
     "name": "stderr",
     "output_type": "stream",
     "text": [
      "Multiple -pix_fmt options specified for stream 0, only the last option '-pix_fmt yuv420p' will be used.\n"
     ]
    },
    {
     "name": "stdout",
     "output_type": "stream",
     "text": [
      "video episode_000111.mp4 is generated: training_data/videos/chunk-000/observation.images.second_view/episode_000111.mp4\n",
      "****************************************************************************************************\n",
      "112: collect_data/data/2025_07_17-17_00_30\n",
      "task_idx: 0\n",
      "episode_000112.parquet is generated: training_data/data/chunk-000/episode_000112.parquet\n"
     ]
    },
    {
     "name": "stderr",
     "output_type": "stream",
     "text": [
      "Multiple -pix_fmt options specified for stream 0, only the last option '-pix_fmt yuv420p' will be used.\n"
     ]
    },
    {
     "name": "stdout",
     "output_type": "stream",
     "text": [
      "video episode_000112.mp4 is generated: training_data/videos/chunk-000/observation.images.ego_view/episode_000112.mp4\n"
     ]
    },
    {
     "name": "stderr",
     "output_type": "stream",
     "text": [
      "Multiple -pix_fmt options specified for stream 0, only the last option '-pix_fmt yuv420p' will be used.\n"
     ]
    },
    {
     "name": "stdout",
     "output_type": "stream",
     "text": [
      "video episode_000112.mp4 is generated: training_data/videos/chunk-000/observation.images.second_view/episode_000112.mp4\n",
      "****************************************************************************************************\n",
      "113: collect_data/data/2025_07_17-17_01_02\n",
      "task_idx: 0\n",
      "episode_000113.parquet is generated: training_data/data/chunk-000/episode_000113.parquet\n"
     ]
    },
    {
     "name": "stderr",
     "output_type": "stream",
     "text": [
      "Multiple -pix_fmt options specified for stream 0, only the last option '-pix_fmt yuv420p' will be used.\n"
     ]
    },
    {
     "name": "stdout",
     "output_type": "stream",
     "text": [
      "video episode_000113.mp4 is generated: training_data/videos/chunk-000/observation.images.ego_view/episode_000113.mp4\n"
     ]
    },
    {
     "name": "stderr",
     "output_type": "stream",
     "text": [
      "Multiple -pix_fmt options specified for stream 0, only the last option '-pix_fmt yuv420p' will be used.\n"
     ]
    },
    {
     "name": "stdout",
     "output_type": "stream",
     "text": [
      "video episode_000113.mp4 is generated: training_data/videos/chunk-000/observation.images.second_view/episode_000113.mp4\n",
      "****************************************************************************************************\n",
      "114: collect_data/data/2025_07_17-17_01_35\n",
      "task_idx: 0\n",
      "episode_000114.parquet is generated: training_data/data/chunk-000/episode_000114.parquet\n"
     ]
    },
    {
     "name": "stderr",
     "output_type": "stream",
     "text": [
      "Multiple -pix_fmt options specified for stream 0, only the last option '-pix_fmt yuv420p' will be used.\n"
     ]
    },
    {
     "name": "stdout",
     "output_type": "stream",
     "text": [
      "video episode_000114.mp4 is generated: training_data/videos/chunk-000/observation.images.ego_view/episode_000114.mp4\n"
     ]
    },
    {
     "name": "stderr",
     "output_type": "stream",
     "text": [
      "Multiple -pix_fmt options specified for stream 0, only the last option '-pix_fmt yuv420p' will be used.\n"
     ]
    },
    {
     "name": "stdout",
     "output_type": "stream",
     "text": [
      "video episode_000114.mp4 is generated: training_data/videos/chunk-000/observation.images.second_view/episode_000114.mp4\n",
      "****************************************************************************************************\n",
      "115: collect_data/data/2025_07_17-17_02_06\n",
      "task_idx: 0\n",
      "episode_000115.parquet is generated: training_data/data/chunk-000/episode_000115.parquet\n"
     ]
    },
    {
     "name": "stderr",
     "output_type": "stream",
     "text": [
      "Multiple -pix_fmt options specified for stream 0, only the last option '-pix_fmt yuv420p' will be used.\n"
     ]
    },
    {
     "name": "stdout",
     "output_type": "stream",
     "text": [
      "video episode_000115.mp4 is generated: training_data/videos/chunk-000/observation.images.ego_view/episode_000115.mp4\n"
     ]
    },
    {
     "name": "stderr",
     "output_type": "stream",
     "text": [
      "Multiple -pix_fmt options specified for stream 0, only the last option '-pix_fmt yuv420p' will be used.\n"
     ]
    },
    {
     "name": "stdout",
     "output_type": "stream",
     "text": [
      "video episode_000115.mp4 is generated: training_data/videos/chunk-000/observation.images.second_view/episode_000115.mp4\n",
      "****************************************************************************************************\n",
      "116: collect_data/data/2025_07_17-17_02_39\n",
      "task_idx: 0\n",
      "episode_000116.parquet is generated: training_data/data/chunk-000/episode_000116.parquet\n"
     ]
    },
    {
     "name": "stderr",
     "output_type": "stream",
     "text": [
      "Multiple -pix_fmt options specified for stream 0, only the last option '-pix_fmt yuv420p' will be used.\n"
     ]
    },
    {
     "name": "stdout",
     "output_type": "stream",
     "text": [
      "video episode_000116.mp4 is generated: training_data/videos/chunk-000/observation.images.ego_view/episode_000116.mp4\n"
     ]
    },
    {
     "name": "stderr",
     "output_type": "stream",
     "text": [
      "Multiple -pix_fmt options specified for stream 0, only the last option '-pix_fmt yuv420p' will be used.\n"
     ]
    },
    {
     "name": "stdout",
     "output_type": "stream",
     "text": [
      "video episode_000116.mp4 is generated: training_data/videos/chunk-000/observation.images.second_view/episode_000116.mp4\n",
      "****************************************************************************************************\n",
      "117: collect_data/data/2025_07_17-17_03_10\n",
      "task_idx: 0\n",
      "episode_000117.parquet is generated: training_data/data/chunk-000/episode_000117.parquet\n"
     ]
    },
    {
     "name": "stderr",
     "output_type": "stream",
     "text": [
      "Multiple -pix_fmt options specified for stream 0, only the last option '-pix_fmt yuv420p' will be used.\n"
     ]
    },
    {
     "name": "stdout",
     "output_type": "stream",
     "text": [
      "video episode_000117.mp4 is generated: training_data/videos/chunk-000/observation.images.ego_view/episode_000117.mp4\n"
     ]
    },
    {
     "name": "stderr",
     "output_type": "stream",
     "text": [
      "Multiple -pix_fmt options specified for stream 0, only the last option '-pix_fmt yuv420p' will be used.\n"
     ]
    },
    {
     "name": "stdout",
     "output_type": "stream",
     "text": [
      "video episode_000117.mp4 is generated: training_data/videos/chunk-000/observation.images.second_view/episode_000117.mp4\n",
      "****************************************************************************************************\n",
      "118: collect_data/data/2025_07_17-17_03_42\n",
      "task_idx: 0\n",
      "episode_000118.parquet is generated: training_data/data/chunk-000/episode_000118.parquet\n"
     ]
    },
    {
     "name": "stderr",
     "output_type": "stream",
     "text": [
      "Multiple -pix_fmt options specified for stream 0, only the last option '-pix_fmt yuv420p' will be used.\n"
     ]
    },
    {
     "name": "stdout",
     "output_type": "stream",
     "text": [
      "video episode_000118.mp4 is generated: training_data/videos/chunk-000/observation.images.ego_view/episode_000118.mp4\n"
     ]
    },
    {
     "name": "stderr",
     "output_type": "stream",
     "text": [
      "Multiple -pix_fmt options specified for stream 0, only the last option '-pix_fmt yuv420p' will be used.\n"
     ]
    },
    {
     "name": "stdout",
     "output_type": "stream",
     "text": [
      "video episode_000118.mp4 is generated: training_data/videos/chunk-000/observation.images.second_view/episode_000118.mp4\n",
      "****************************************************************************************************\n",
      "119: collect_data/data/2025_07_17-17_04_27\n",
      "task_idx: 0\n",
      "episode_000119.parquet is generated: training_data/data/chunk-000/episode_000119.parquet\n"
     ]
    },
    {
     "name": "stderr",
     "output_type": "stream",
     "text": [
      "Multiple -pix_fmt options specified for stream 0, only the last option '-pix_fmt yuv420p' will be used.\n"
     ]
    },
    {
     "name": "stdout",
     "output_type": "stream",
     "text": [
      "video episode_000119.mp4 is generated: training_data/videos/chunk-000/observation.images.ego_view/episode_000119.mp4\n"
     ]
    },
    {
     "name": "stderr",
     "output_type": "stream",
     "text": [
      "Multiple -pix_fmt options specified for stream 0, only the last option '-pix_fmt yuv420p' will be used.\n"
     ]
    },
    {
     "name": "stdout",
     "output_type": "stream",
     "text": [
      "video episode_000119.mp4 is generated: training_data/videos/chunk-000/observation.images.second_view/episode_000119.mp4\n",
      "****************************************************************************************************\n",
      "120: collect_data/data/2025_07_17-17_05_01\n",
      "task_idx: 0\n",
      "episode_000120.parquet is generated: training_data/data/chunk-000/episode_000120.parquet\n"
     ]
    },
    {
     "name": "stderr",
     "output_type": "stream",
     "text": [
      "Multiple -pix_fmt options specified for stream 0, only the last option '-pix_fmt yuv420p' will be used.\n"
     ]
    },
    {
     "name": "stdout",
     "output_type": "stream",
     "text": [
      "video episode_000120.mp4 is generated: training_data/videos/chunk-000/observation.images.ego_view/episode_000120.mp4\n"
     ]
    },
    {
     "name": "stderr",
     "output_type": "stream",
     "text": [
      "Multiple -pix_fmt options specified for stream 0, only the last option '-pix_fmt yuv420p' will be used.\n"
     ]
    },
    {
     "name": "stdout",
     "output_type": "stream",
     "text": [
      "video episode_000120.mp4 is generated: training_data/videos/chunk-000/observation.images.second_view/episode_000120.mp4\n",
      "****************************************************************************************************\n",
      "121: collect_data/data/2025_07_17-17_05_32\n",
      "task_idx: 0\n",
      "episode_000121.parquet is generated: training_data/data/chunk-000/episode_000121.parquet\n"
     ]
    },
    {
     "name": "stderr",
     "output_type": "stream",
     "text": [
      "Multiple -pix_fmt options specified for stream 0, only the last option '-pix_fmt yuv420p' will be used.\n"
     ]
    },
    {
     "name": "stdout",
     "output_type": "stream",
     "text": [
      "video episode_000121.mp4 is generated: training_data/videos/chunk-000/observation.images.ego_view/episode_000121.mp4\n"
     ]
    },
    {
     "name": "stderr",
     "output_type": "stream",
     "text": [
      "Multiple -pix_fmt options specified for stream 0, only the last option '-pix_fmt yuv420p' will be used.\n"
     ]
    },
    {
     "name": "stdout",
     "output_type": "stream",
     "text": [
      "video episode_000121.mp4 is generated: training_data/videos/chunk-000/observation.images.second_view/episode_000121.mp4\n",
      "****************************************************************************************************\n",
      "122: collect_data/data/2025_07_17-17_06_03\n",
      "task_idx: 0\n",
      "episode_000122.parquet is generated: training_data/data/chunk-000/episode_000122.parquet\n"
     ]
    },
    {
     "name": "stderr",
     "output_type": "stream",
     "text": [
      "Multiple -pix_fmt options specified for stream 0, only the last option '-pix_fmt yuv420p' will be used.\n"
     ]
    },
    {
     "name": "stdout",
     "output_type": "stream",
     "text": [
      "video episode_000122.mp4 is generated: training_data/videos/chunk-000/observation.images.ego_view/episode_000122.mp4\n"
     ]
    },
    {
     "name": "stderr",
     "output_type": "stream",
     "text": [
      "Multiple -pix_fmt options specified for stream 0, only the last option '-pix_fmt yuv420p' will be used.\n"
     ]
    },
    {
     "name": "stdout",
     "output_type": "stream",
     "text": [
      "video episode_000122.mp4 is generated: training_data/videos/chunk-000/observation.images.second_view/episode_000122.mp4\n",
      "****************************************************************************************************\n",
      "123: collect_data/data/2025_07_17-17_06_35\n",
      "task_idx: 0\n",
      "episode_000123.parquet is generated: training_data/data/chunk-000/episode_000123.parquet\n"
     ]
    },
    {
     "name": "stderr",
     "output_type": "stream",
     "text": [
      "Multiple -pix_fmt options specified for stream 0, only the last option '-pix_fmt yuv420p' will be used.\n"
     ]
    },
    {
     "name": "stdout",
     "output_type": "stream",
     "text": [
      "video episode_000123.mp4 is generated: training_data/videos/chunk-000/observation.images.ego_view/episode_000123.mp4\n"
     ]
    },
    {
     "name": "stderr",
     "output_type": "stream",
     "text": [
      "Multiple -pix_fmt options specified for stream 0, only the last option '-pix_fmt yuv420p' will be used.\n"
     ]
    },
    {
     "name": "stdout",
     "output_type": "stream",
     "text": [
      "video episode_000123.mp4 is generated: training_data/videos/chunk-000/observation.images.second_view/episode_000123.mp4\n",
      "****************************************************************************************************\n",
      "124: collect_data/data/2025_07_17-17_07_08\n",
      "task_idx: 0\n",
      "episode_000124.parquet is generated: training_data/data/chunk-000/episode_000124.parquet\n"
     ]
    },
    {
     "name": "stderr",
     "output_type": "stream",
     "text": [
      "Multiple -pix_fmt options specified for stream 0, only the last option '-pix_fmt yuv420p' will be used.\n"
     ]
    },
    {
     "name": "stdout",
     "output_type": "stream",
     "text": [
      "video episode_000124.mp4 is generated: training_data/videos/chunk-000/observation.images.ego_view/episode_000124.mp4\n"
     ]
    },
    {
     "name": "stderr",
     "output_type": "stream",
     "text": [
      "Multiple -pix_fmt options specified for stream 0, only the last option '-pix_fmt yuv420p' will be used.\n"
     ]
    },
    {
     "name": "stdout",
     "output_type": "stream",
     "text": [
      "video episode_000124.mp4 is generated: training_data/videos/chunk-000/observation.images.second_view/episode_000124.mp4\n",
      "****************************************************************************************************\n",
      "125: collect_data/data/2025_07_17-17_07_39\n",
      "task_idx: 0\n",
      "episode_000125.parquet is generated: training_data/data/chunk-000/episode_000125.parquet\n"
     ]
    },
    {
     "name": "stderr",
     "output_type": "stream",
     "text": [
      "Multiple -pix_fmt options specified for stream 0, only the last option '-pix_fmt yuv420p' will be used.\n"
     ]
    },
    {
     "name": "stdout",
     "output_type": "stream",
     "text": [
      "video episode_000125.mp4 is generated: training_data/videos/chunk-000/observation.images.ego_view/episode_000125.mp4\n"
     ]
    },
    {
     "name": "stderr",
     "output_type": "stream",
     "text": [
      "Multiple -pix_fmt options specified for stream 0, only the last option '-pix_fmt yuv420p' will be used.\n"
     ]
    },
    {
     "name": "stdout",
     "output_type": "stream",
     "text": [
      "video episode_000125.mp4 is generated: training_data/videos/chunk-000/observation.images.second_view/episode_000125.mp4\n",
      "****************************************************************************************************\n",
      "126: collect_data/data/2025_07_17-17_08_07\n",
      "task_idx: 0\n",
      "episode_000126.parquet is generated: training_data/data/chunk-000/episode_000126.parquet\n"
     ]
    },
    {
     "name": "stderr",
     "output_type": "stream",
     "text": [
      "Multiple -pix_fmt options specified for stream 0, only the last option '-pix_fmt yuv420p' will be used.\n"
     ]
    },
    {
     "name": "stdout",
     "output_type": "stream",
     "text": [
      "video episode_000126.mp4 is generated: training_data/videos/chunk-000/observation.images.ego_view/episode_000126.mp4\n"
     ]
    },
    {
     "name": "stderr",
     "output_type": "stream",
     "text": [
      "Multiple -pix_fmt options specified for stream 0, only the last option '-pix_fmt yuv420p' will be used.\n"
     ]
    },
    {
     "name": "stdout",
     "output_type": "stream",
     "text": [
      "video episode_000126.mp4 is generated: training_data/videos/chunk-000/observation.images.second_view/episode_000126.mp4\n",
      "****************************************************************************************************\n",
      "127: collect_data/data/2025_07_17-17_08_36\n",
      "task_idx: 0\n",
      "episode_000127.parquet is generated: training_data/data/chunk-000/episode_000127.parquet\n"
     ]
    },
    {
     "name": "stderr",
     "output_type": "stream",
     "text": [
      "Multiple -pix_fmt options specified for stream 0, only the last option '-pix_fmt yuv420p' will be used.\n"
     ]
    },
    {
     "name": "stdout",
     "output_type": "stream",
     "text": [
      "video episode_000127.mp4 is generated: training_data/videos/chunk-000/observation.images.ego_view/episode_000127.mp4\n"
     ]
    },
    {
     "name": "stderr",
     "output_type": "stream",
     "text": [
      "Multiple -pix_fmt options specified for stream 0, only the last option '-pix_fmt yuv420p' will be used.\n"
     ]
    },
    {
     "name": "stdout",
     "output_type": "stream",
     "text": [
      "video episode_000127.mp4 is generated: training_data/videos/chunk-000/observation.images.second_view/episode_000127.mp4\n",
      "****************************************************************************************************\n",
      "128: collect_data/data/2025_07_17-17_09_12\n",
      "task_idx: 0\n",
      "episode_000128.parquet is generated: training_data/data/chunk-000/episode_000128.parquet\n"
     ]
    },
    {
     "name": "stderr",
     "output_type": "stream",
     "text": [
      "Multiple -pix_fmt options specified for stream 0, only the last option '-pix_fmt yuv420p' will be used.\n"
     ]
    },
    {
     "name": "stdout",
     "output_type": "stream",
     "text": [
      "video episode_000128.mp4 is generated: training_data/videos/chunk-000/observation.images.ego_view/episode_000128.mp4\n"
     ]
    },
    {
     "name": "stderr",
     "output_type": "stream",
     "text": [
      "Multiple -pix_fmt options specified for stream 0, only the last option '-pix_fmt yuv420p' will be used.\n"
     ]
    },
    {
     "name": "stdout",
     "output_type": "stream",
     "text": [
      "video episode_000128.mp4 is generated: training_data/videos/chunk-000/observation.images.second_view/episode_000128.mp4\n",
      "****************************************************************************************************\n",
      "129: collect_data/data/2025_07_17-17_09_48\n",
      "task_idx: 0\n",
      "episode_000129.parquet is generated: training_data/data/chunk-000/episode_000129.parquet\n"
     ]
    },
    {
     "name": "stderr",
     "output_type": "stream",
     "text": [
      "Multiple -pix_fmt options specified for stream 0, only the last option '-pix_fmt yuv420p' will be used.\n"
     ]
    },
    {
     "name": "stdout",
     "output_type": "stream",
     "text": [
      "video episode_000129.mp4 is generated: training_data/videos/chunk-000/observation.images.ego_view/episode_000129.mp4\n"
     ]
    },
    {
     "name": "stderr",
     "output_type": "stream",
     "text": [
      "Multiple -pix_fmt options specified for stream 0, only the last option '-pix_fmt yuv420p' will be used.\n"
     ]
    },
    {
     "name": "stdout",
     "output_type": "stream",
     "text": [
      "video episode_000129.mp4 is generated: training_data/videos/chunk-000/observation.images.second_view/episode_000129.mp4\n",
      "****************************************************************************************************\n",
      "130: collect_data/data/2025_07_17-17_10_21\n",
      "task_idx: 0\n",
      "episode_000130.parquet is generated: training_data/data/chunk-000/episode_000130.parquet\n"
     ]
    },
    {
     "name": "stderr",
     "output_type": "stream",
     "text": [
      "Multiple -pix_fmt options specified for stream 0, only the last option '-pix_fmt yuv420p' will be used.\n"
     ]
    },
    {
     "name": "stdout",
     "output_type": "stream",
     "text": [
      "video episode_000130.mp4 is generated: training_data/videos/chunk-000/observation.images.ego_view/episode_000130.mp4\n"
     ]
    },
    {
     "name": "stderr",
     "output_type": "stream",
     "text": [
      "Multiple -pix_fmt options specified for stream 0, only the last option '-pix_fmt yuv420p' will be used.\n"
     ]
    },
    {
     "name": "stdout",
     "output_type": "stream",
     "text": [
      "video episode_000130.mp4 is generated: training_data/videos/chunk-000/observation.images.second_view/episode_000130.mp4\n",
      "****************************************************************************************************\n",
      "131: collect_data/data/2025_07_17-17_10_54\n",
      "task_idx: 0\n",
      "episode_000131.parquet is generated: training_data/data/chunk-000/episode_000131.parquet\n"
     ]
    },
    {
     "name": "stderr",
     "output_type": "stream",
     "text": [
      "Multiple -pix_fmt options specified for stream 0, only the last option '-pix_fmt yuv420p' will be used.\n"
     ]
    },
    {
     "name": "stdout",
     "output_type": "stream",
     "text": [
      "video episode_000131.mp4 is generated: training_data/videos/chunk-000/observation.images.ego_view/episode_000131.mp4\n"
     ]
    },
    {
     "name": "stderr",
     "output_type": "stream",
     "text": [
      "Multiple -pix_fmt options specified for stream 0, only the last option '-pix_fmt yuv420p' will be used.\n"
     ]
    },
    {
     "name": "stdout",
     "output_type": "stream",
     "text": [
      "video episode_000131.mp4 is generated: training_data/videos/chunk-000/observation.images.second_view/episode_000131.mp4\n",
      "****************************************************************************************************\n",
      "132: collect_data/data/2025_07_17-17_11_25\n",
      "task_idx: 0\n",
      "episode_000132.parquet is generated: training_data/data/chunk-000/episode_000132.parquet\n"
     ]
    },
    {
     "name": "stderr",
     "output_type": "stream",
     "text": [
      "Multiple -pix_fmt options specified for stream 0, only the last option '-pix_fmt yuv420p' will be used.\n"
     ]
    },
    {
     "name": "stdout",
     "output_type": "stream",
     "text": [
      "video episode_000132.mp4 is generated: training_data/videos/chunk-000/observation.images.ego_view/episode_000132.mp4\n"
     ]
    },
    {
     "name": "stderr",
     "output_type": "stream",
     "text": [
      "Multiple -pix_fmt options specified for stream 0, only the last option '-pix_fmt yuv420p' will be used.\n"
     ]
    },
    {
     "name": "stdout",
     "output_type": "stream",
     "text": [
      "video episode_000132.mp4 is generated: training_data/videos/chunk-000/observation.images.second_view/episode_000132.mp4\n",
      "****************************************************************************************************\n",
      "133: collect_data/data/2025_07_17-17_11_54\n",
      "task_idx: 0\n",
      "episode_000133.parquet is generated: training_data/data/chunk-000/episode_000133.parquet\n"
     ]
    },
    {
     "name": "stderr",
     "output_type": "stream",
     "text": [
      "Multiple -pix_fmt options specified for stream 0, only the last option '-pix_fmt yuv420p' will be used.\n"
     ]
    },
    {
     "name": "stdout",
     "output_type": "stream",
     "text": [
      "video episode_000133.mp4 is generated: training_data/videos/chunk-000/observation.images.ego_view/episode_000133.mp4\n"
     ]
    },
    {
     "name": "stderr",
     "output_type": "stream",
     "text": [
      "Multiple -pix_fmt options specified for stream 0, only the last option '-pix_fmt yuv420p' will be used.\n"
     ]
    },
    {
     "name": "stdout",
     "output_type": "stream",
     "text": [
      "video episode_000133.mp4 is generated: training_data/videos/chunk-000/observation.images.second_view/episode_000133.mp4\n",
      "****************************************************************************************************\n",
      "134: collect_data/data/2025_07_17-17_12_27\n",
      "task_idx: 0\n",
      "episode_000134.parquet is generated: training_data/data/chunk-000/episode_000134.parquet\n"
     ]
    },
    {
     "name": "stderr",
     "output_type": "stream",
     "text": [
      "Multiple -pix_fmt options specified for stream 0, only the last option '-pix_fmt yuv420p' will be used.\n"
     ]
    },
    {
     "name": "stdout",
     "output_type": "stream",
     "text": [
      "video episode_000134.mp4 is generated: training_data/videos/chunk-000/observation.images.ego_view/episode_000134.mp4\n"
     ]
    },
    {
     "name": "stderr",
     "output_type": "stream",
     "text": [
      "Multiple -pix_fmt options specified for stream 0, only the last option '-pix_fmt yuv420p' will be used.\n"
     ]
    },
    {
     "name": "stdout",
     "output_type": "stream",
     "text": [
      "video episode_000134.mp4 is generated: training_data/videos/chunk-000/observation.images.second_view/episode_000134.mp4\n",
      "****************************************************************************************************\n",
      "135: collect_data/data/2025_07_17-17_12_59\n",
      "task_idx: 0\n",
      "episode_000135.parquet is generated: training_data/data/chunk-000/episode_000135.parquet\n"
     ]
    },
    {
     "name": "stderr",
     "output_type": "stream",
     "text": [
      "Multiple -pix_fmt options specified for stream 0, only the last option '-pix_fmt yuv420p' will be used.\n"
     ]
    },
    {
     "name": "stdout",
     "output_type": "stream",
     "text": [
      "video episode_000135.mp4 is generated: training_data/videos/chunk-000/observation.images.ego_view/episode_000135.mp4\n"
     ]
    },
    {
     "name": "stderr",
     "output_type": "stream",
     "text": [
      "Multiple -pix_fmt options specified for stream 0, only the last option '-pix_fmt yuv420p' will be used.\n"
     ]
    },
    {
     "name": "stdout",
     "output_type": "stream",
     "text": [
      "video episode_000135.mp4 is generated: training_data/videos/chunk-000/observation.images.second_view/episode_000135.mp4\n",
      "****************************************************************************************************\n",
      "136: collect_data/data/2025_07_17-17_13_28\n",
      "task_idx: 0\n",
      "episode_000136.parquet is generated: training_data/data/chunk-000/episode_000136.parquet\n"
     ]
    },
    {
     "name": "stderr",
     "output_type": "stream",
     "text": [
      "Multiple -pix_fmt options specified for stream 0, only the last option '-pix_fmt yuv420p' will be used.\n"
     ]
    },
    {
     "name": "stdout",
     "output_type": "stream",
     "text": [
      "video episode_000136.mp4 is generated: training_data/videos/chunk-000/observation.images.ego_view/episode_000136.mp4\n"
     ]
    },
    {
     "name": "stderr",
     "output_type": "stream",
     "text": [
      "Multiple -pix_fmt options specified for stream 0, only the last option '-pix_fmt yuv420p' will be used.\n"
     ]
    },
    {
     "name": "stdout",
     "output_type": "stream",
     "text": [
      "video episode_000136.mp4 is generated: training_data/videos/chunk-000/observation.images.second_view/episode_000136.mp4\n",
      "****************************************************************************************************\n",
      "137: collect_data/data/2025_07_17-17_13_57\n",
      "task_idx: 0\n",
      "episode_000137.parquet is generated: training_data/data/chunk-000/episode_000137.parquet\n"
     ]
    },
    {
     "name": "stderr",
     "output_type": "stream",
     "text": [
      "Multiple -pix_fmt options specified for stream 0, only the last option '-pix_fmt yuv420p' will be used.\n"
     ]
    },
    {
     "name": "stdout",
     "output_type": "stream",
     "text": [
      "video episode_000137.mp4 is generated: training_data/videos/chunk-000/observation.images.ego_view/episode_000137.mp4\n"
     ]
    },
    {
     "name": "stderr",
     "output_type": "stream",
     "text": [
      "Multiple -pix_fmt options specified for stream 0, only the last option '-pix_fmt yuv420p' will be used.\n"
     ]
    },
    {
     "name": "stdout",
     "output_type": "stream",
     "text": [
      "video episode_000137.mp4 is generated: training_data/videos/chunk-000/observation.images.second_view/episode_000137.mp4\n",
      "****************************************************************************************************\n",
      "138: collect_data/data/2025_07_17-17_14_34\n",
      "task_idx: 0\n",
      "episode_000138.parquet is generated: training_data/data/chunk-000/episode_000138.parquet\n"
     ]
    },
    {
     "name": "stderr",
     "output_type": "stream",
     "text": [
      "Multiple -pix_fmt options specified for stream 0, only the last option '-pix_fmt yuv420p' will be used.\n"
     ]
    },
    {
     "name": "stdout",
     "output_type": "stream",
     "text": [
      "video episode_000138.mp4 is generated: training_data/videos/chunk-000/observation.images.ego_view/episode_000138.mp4\n",
      "video episode_000138.mp4 is generated: training_data/videos/chunk-000/observation.images.second_view/episode_000138.mp4\n",
      "--------------------------------------------------\n",
      "total numbers: 38458\n"
     ]
    },
    {
     "name": "stderr",
     "output_type": "stream",
     "text": [
      "Multiple -pix_fmt options specified for stream 0, only the last option '-pix_fmt yuv420p' will be used.\n"
     ]
    }
   ],
   "source": [
    "global_idx = 12349\n",
    "current_epi_idx = 39\n",
    "\n",
    "for idx, folder in enumerate(sorted(SOURCE_DIR.iterdir())):    \n",
    "    print(\"*\" * 100)\n",
    "    print(f\"{idx+current_epi_idx}: {folder}\")\n",
    "    \n",
    "    global_idx = parquet_file_generation(idx + current_epi_idx,folder, global_idx)\n",
    "    \n",
    "    video_generation(idx + current_epi_idx,folder)\n",
    "\n",
    "print(\"-\" * 50)\n",
    "print(f\"total numbers: {global_idx }\")"
   ]
  },
  {
   "cell_type": "code",
   "execution_count": null,
   "id": "df8419f2",
   "metadata": {},
   "outputs": [],
   "source": []
  }
 ],
 "metadata": {
  "kernelspec": {
   "display_name": "gr00t",
   "language": "python",
   "name": "python3"
  },
  "language_info": {
   "codemirror_mode": {
    "name": "ipython",
    "version": 3
   },
   "file_extension": ".py",
   "mimetype": "text/x-python",
   "name": "python",
   "nbconvert_exporter": "python",
   "pygments_lexer": "ipython3",
   "version": "3.10.16"
  }
 },
 "nbformat": 4,
 "nbformat_minor": 5
}
