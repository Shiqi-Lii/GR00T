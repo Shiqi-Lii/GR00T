{
 "cells": [
  {
   "cell_type": "code",
   "execution_count": 1,
   "id": "a2aa3dce",
   "metadata": {},
   "outputs": [
    {
     "name": "stdout",
     "output_type": "stream",
     "text": [
      "total episode numuber in the data folder is : 50\n"
     ]
    }
   ],
   "source": [
    "from pathlib import Path\n",
    "\n",
    "SOURCE_DIR = Path(\"/home/ka/ka_stud/ka_ulgrl/policies/Isaac-GR00T/collect_data/data\") \n",
    "\n",
    "task_id = 0\n",
    "count = 0\n",
    "for folder in sorted(SOURCE_DIR.iterdir()):\n",
    "\n",
    "    count +=1\n",
    "\n",
    "print(f\"total episode numuber in the data folder is : {count}\")"
   ]
  },
  {
   "cell_type": "code",
   "execution_count": 5,
   "id": "0ad0f7e4",
   "metadata": {},
   "outputs": [
    {
     "name": "stdout",
     "output_type": "stream",
     "text": [
      "Total length: 50356\n"
     ]
    }
   ],
   "source": [
    "#count current total length\n",
    "\n",
    "import json\n",
    "\n",
    "total_length = 0\n",
    "file_path = \"/home/ka/ka_stud/ka_ulgrl/policies/Isaac-GR00T/training_data/meta/episodes.jsonl\"\n",
    "\n",
    "with open(file_path, 'r') as file:\n",
    "    for line in file:\n",
    "        if line.strip():\n",
    "            data = json.loads(line)\n",
    "            total_length += data[\"length\"]\n",
    "\n",
    "print(f\"Total length: {total_length}\")"
   ]
  }
 ],
 "metadata": {
  "kernelspec": {
   "display_name": "gr00t",
   "language": "python",
   "name": "python3"
  },
  "language_info": {
   "codemirror_mode": {
    "name": "ipython",
    "version": 3
   },
   "file_extension": ".py",
   "mimetype": "text/x-python",
   "name": "python",
   "nbconvert_exporter": "python",
   "pygments_lexer": "ipython3",
   "version": "3.10.16"
  }
 },
 "nbformat": 4,
 "nbformat_minor": 5
}
