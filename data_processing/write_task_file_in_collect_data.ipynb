{
 "cells": [
  {
   "cell_type": "code",
   "execution_count": 5,
   "id": "f440f44b",
   "metadata": {},
   "outputs": [],
   "source": [
    "\n",
    "from pathlib import Path"
   ]
  },
  {
   "cell_type": "code",
   "execution_count": 6,
   "id": "7a0a709f",
   "metadata": {},
   "outputs": [
    {
     "name": "stdout",
     "output_type": "stream",
     "text": [
      "total episode numuber in the data folder is : 101\n"
     ]
    }
   ],
   "source": [
    "SOURCE_DIR = Path(\"/home/ka/ka_stud/ka_ulgrl/policies/Isaac-GR00T/collect_data/data\") \n",
    "\n",
    "task_id = 0\n",
    "count = 0\n",
    "for folder in sorted(SOURCE_DIR.iterdir()):\n",
    "    \n",
    "    task_file = folder / \"task\"   \n",
    "    \n",
    "    with open(task_file, \"w\" , encoding=\"utf-8\") as f:\n",
    "        f.write(str(task_id))\n",
    "        count +=1\n",
    "\n",
    "\n",
    "print(f\"total episode numuber in the data folder is : {count}\")"
   ]
  }
 ],
 "metadata": {
  "kernelspec": {
   "display_name": "gr00t",
   "language": "python",
   "name": "python3"
  },
  "language_info": {
   "codemirror_mode": {
    "name": "ipython",
    "version": 3
   },
   "file_extension": ".py",
   "mimetype": "text/x-python",
   "name": "python",
   "nbconvert_exporter": "python",
   "pygments_lexer": "ipython3",
   "version": "3.10.16"
  }
 },
 "nbformat": 4,
 "nbformat_minor": 5
}
